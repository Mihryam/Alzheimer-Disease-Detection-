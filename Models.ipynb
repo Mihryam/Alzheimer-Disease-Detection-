{
 "cells": [
  {
   "cell_type": "code",
   "execution_count": 50,
   "metadata": {},
   "outputs": [],
   "source": [
    "import numpy as np\n",
    "import pandas as pd\n",
    "import matplotlib as plt\n",
    "import seaborn as sns\n",
    "import matplotlib.pyplot as plt"
   ]
  },
  {
   "cell_type": "markdown",
   "metadata": {},
   "source": [
    "# Data Wrangling"
   ]
  },
  {
   "cell_type": "code",
   "execution_count": 51,
   "metadata": {},
   "outputs": [],
   "source": [
    "Data = pd.read_csv('Data_training_and_val_set_CNvsAD.csv')"
   ]
  },
  {
   "cell_type": "code",
   "execution_count": 52,
   "metadata": {},
   "outputs": [
    {
     "data": {
      "text/html": [
       "<div>\n",
       "<style scoped>\n",
       "    .dataframe tbody tr th:only-of-type {\n",
       "        vertical-align: middle;\n",
       "    }\n",
       "\n",
       "    .dataframe tbody tr th {\n",
       "        vertical-align: top;\n",
       "    }\n",
       "\n",
       "    .dataframe thead th {\n",
       "        text-align: right;\n",
       "    }\n",
       "</style>\n",
       "<table border=\"1\" class=\"dataframe\">\n",
       "  <thead>\n",
       "    <tr style=\"text-align: right;\">\n",
       "      <th></th>\n",
       "      <th>RID</th>\n",
       "      <th>BRAIN</th>\n",
       "      <th>EICV</th>\n",
       "      <th>VENTRICLES</th>\n",
       "      <th>LHIPPOC</th>\n",
       "      <th>RHIPPOC</th>\n",
       "      <th>LINFLATVEN</th>\n",
       "      <th>RINFLATVEN</th>\n",
       "      <th>LMIDTEMP</th>\n",
       "      <th>RMIDTEMP</th>\n",
       "      <th>LINFTEMP</th>\n",
       "      <th>RINFTEMP</th>\n",
       "      <th>LFUSIFORM</th>\n",
       "      <th>RFUSIFORM</th>\n",
       "      <th>LENTORHIN</th>\n",
       "      <th>RENTORHIN</th>\n",
       "      <th>DXCURREN</th>\n",
       "    </tr>\n",
       "  </thead>\n",
       "  <tbody>\n",
       "    <tr>\n",
       "      <th>0</th>\n",
       "      <td>1063</td>\n",
       "      <td>937159</td>\n",
       "      <td>1401690</td>\n",
       "      <td>38855.4</td>\n",
       "      <td>3427.13</td>\n",
       "      <td>3262.01</td>\n",
       "      <td>1045.280</td>\n",
       "      <td>1263.010</td>\n",
       "      <td>2.44566</td>\n",
       "      <td>2.48342</td>\n",
       "      <td>2.47434</td>\n",
       "      <td>2.49197</td>\n",
       "      <td>2.27057</td>\n",
       "      <td>2.11083</td>\n",
       "      <td>2.99752</td>\n",
       "      <td>3.24032</td>\n",
       "      <td>0</td>\n",
       "    </tr>\n",
       "    <tr>\n",
       "      <th>1</th>\n",
       "      <td>184</td>\n",
       "      <td>901429</td>\n",
       "      <td>1235930</td>\n",
       "      <td>10081.2</td>\n",
       "      <td>3410.35</td>\n",
       "      <td>3693.69</td>\n",
       "      <td>529.756</td>\n",
       "      <td>391.364</td>\n",
       "      <td>2.52101</td>\n",
       "      <td>2.69526</td>\n",
       "      <td>2.81781</td>\n",
       "      <td>2.76115</td>\n",
       "      <td>2.42640</td>\n",
       "      <td>2.50153</td>\n",
       "      <td>3.40556</td>\n",
       "      <td>3.36431</td>\n",
       "      <td>0</td>\n",
       "    </tr>\n",
       "    <tr>\n",
       "      <th>2</th>\n",
       "      <td>16</td>\n",
       "      <td>935565</td>\n",
       "      <td>1345440</td>\n",
       "      <td>21299.0</td>\n",
       "      <td>3621.49</td>\n",
       "      <td>3802.43</td>\n",
       "      <td>887.978</td>\n",
       "      <td>1135.170</td>\n",
       "      <td>2.45128</td>\n",
       "      <td>2.53828</td>\n",
       "      <td>2.40015</td>\n",
       "      <td>2.46122</td>\n",
       "      <td>1.99782</td>\n",
       "      <td>2.40015</td>\n",
       "      <td>3.19497</td>\n",
       "      <td>3.02149</td>\n",
       "      <td>0</td>\n",
       "    </tr>\n",
       "    <tr>\n",
       "      <th>3</th>\n",
       "      <td>575</td>\n",
       "      <td>884775</td>\n",
       "      <td>1325760</td>\n",
       "      <td>69220.3</td>\n",
       "      <td>2802.91</td>\n",
       "      <td>3098.38</td>\n",
       "      <td>3215.570</td>\n",
       "      <td>3370.800</td>\n",
       "      <td>2.59348</td>\n",
       "      <td>2.62409</td>\n",
       "      <td>2.50552</td>\n",
       "      <td>2.95271</td>\n",
       "      <td>2.09972</td>\n",
       "      <td>2.12354</td>\n",
       "      <td>2.43217</td>\n",
       "      <td>2.99445</td>\n",
       "      <td>0</td>\n",
       "    </tr>\n",
       "    <tr>\n",
       "      <th>4</th>\n",
       "      <td>403</td>\n",
       "      <td>1062950</td>\n",
       "      <td>1498230</td>\n",
       "      <td>32967.7</td>\n",
       "      <td>3416.55</td>\n",
       "      <td>4103.49</td>\n",
       "      <td>1648.410</td>\n",
       "      <td>1480.410</td>\n",
       "      <td>2.78544</td>\n",
       "      <td>2.76651</td>\n",
       "      <td>2.71469</td>\n",
       "      <td>2.54695</td>\n",
       "      <td>2.38363</td>\n",
       "      <td>2.48169</td>\n",
       "      <td>3.71762</td>\n",
       "      <td>3.86305</td>\n",
       "      <td>0</td>\n",
       "    </tr>\n",
       "  </tbody>\n",
       "</table>\n",
       "</div>"
      ],
      "text/plain": [
       "    RID    BRAIN     EICV  VENTRICLES  LHIPPOC  RHIPPOC  LINFLATVEN  \\\n",
       "0  1063   937159  1401690     38855.4  3427.13  3262.01    1045.280   \n",
       "1   184   901429  1235930     10081.2  3410.35  3693.69     529.756   \n",
       "2    16   935565  1345440     21299.0  3621.49  3802.43     887.978   \n",
       "3   575   884775  1325760     69220.3  2802.91  3098.38    3215.570   \n",
       "4   403  1062950  1498230     32967.7  3416.55  4103.49    1648.410   \n",
       "\n",
       "   RINFLATVEN  LMIDTEMP  RMIDTEMP  LINFTEMP  RINFTEMP  LFUSIFORM  RFUSIFORM  \\\n",
       "0    1263.010   2.44566   2.48342   2.47434   2.49197    2.27057    2.11083   \n",
       "1     391.364   2.52101   2.69526   2.81781   2.76115    2.42640    2.50153   \n",
       "2    1135.170   2.45128   2.53828   2.40015   2.46122    1.99782    2.40015   \n",
       "3    3370.800   2.59348   2.62409   2.50552   2.95271    2.09972    2.12354   \n",
       "4    1480.410   2.78544   2.76651   2.71469   2.54695    2.38363    2.48169   \n",
       "\n",
       "   LENTORHIN  RENTORHIN  DXCURREN  \n",
       "0    2.99752    3.24032         0  \n",
       "1    3.40556    3.36431         0  \n",
       "2    3.19497    3.02149         0  \n",
       "3    2.43217    2.99445         0  \n",
       "4    3.71762    3.86305         0  "
      ]
     },
     "execution_count": 52,
     "metadata": {},
     "output_type": "execute_result"
    }
   ],
   "source": [
    "Data.head()"
   ]
  },
  {
   "cell_type": "code",
   "execution_count": 53,
   "metadata": {},
   "outputs": [],
   "source": [
    "#dropping irrelevant feature\n",
    "Data.drop(['RID'], axis=1, inplace = True)"
   ]
  },
  {
   "cell_type": "code",
   "execution_count": 54,
   "metadata": {},
   "outputs": [
    {
     "data": {
      "text/plain": [
       "0    110\n",
       "1    110\n",
       "Name: DXCURREN, dtype: int64"
      ]
     },
     "execution_count": 54,
     "metadata": {},
     "output_type": "execute_result"
    }
   ],
   "source": [
    "Data['DXCURREN'].value_counts()"
   ]
  },
  {
   "cell_type": "code",
   "execution_count": 55,
   "metadata": {},
   "outputs": [
    {
     "data": {
      "text/plain": [
       "<seaborn.axisgrid.PairGrid at 0x2c5e0201da0>"
      ]
     },
     "execution_count": 55,
     "metadata": {},
     "output_type": "execute_result"
    },
    {
     "data": {
      "image/png": "[encoded data removed]",
      "text/plain": [
       "<Figure size 540x540 with 12 Axes>"
      ]
     },
     "metadata": {
      "needs_background": "light"
     },
     "output_type": "display_data"
    }
   ],
   "source": [
    "subData = Data[['BRAIN','EICV','VENTRICLES' ]]\n",
    "sns.pairplot(subData)"
   ]
  },
  {
   "cell_type": "code",
   "execution_count": 56,
   "metadata": {},
   "outputs": [],
   "source": [
    "Demented = Data[Data.DXCURREN == 1]\n",
    "Normal = Data[Data.DXCURREN == 0]"
   ]
  },
  {
   "cell_type": "code",
   "execution_count": 57,
   "metadata": {},
   "outputs": [
    {
     "data": {
      "text/html": [
       "<div>\n",
       "<style scoped>\n",
       "    .dataframe tbody tr th:only-of-type {\n",
       "        vertical-align: middle;\n",
       "    }\n",
       "\n",
       "    .dataframe tbody tr th {\n",
       "        vertical-align: top;\n",
       "    }\n",
       "\n",
       "    .dataframe thead th {\n",
       "        text-align: right;\n",
       "    }\n",
       "</style>\n",
       "<table border=\"1\" class=\"dataframe\">\n",
       "  <thead>\n",
       "    <tr style=\"text-align: right;\">\n",
       "      <th></th>\n",
       "      <th>BRAIN</th>\n",
       "      <th>EICV</th>\n",
       "      <th>VENTRICLES</th>\n",
       "      <th>LHIPPOC</th>\n",
       "      <th>RHIPPOC</th>\n",
       "      <th>LINFLATVEN</th>\n",
       "      <th>RINFLATVEN</th>\n",
       "      <th>LMIDTEMP</th>\n",
       "      <th>RMIDTEMP</th>\n",
       "      <th>LINFTEMP</th>\n",
       "      <th>RINFTEMP</th>\n",
       "      <th>LFUSIFORM</th>\n",
       "      <th>RFUSIFORM</th>\n",
       "      <th>LENTORHIN</th>\n",
       "      <th>RENTORHIN</th>\n",
       "      <th>DXCURREN</th>\n",
       "    </tr>\n",
       "  </thead>\n",
       "  <tbody>\n",
       "    <tr>\n",
       "      <th>count</th>\n",
       "      <td>1.100000e+02</td>\n",
       "      <td>1.100000e+02</td>\n",
       "      <td>110.000000</td>\n",
       "      <td>110.000000</td>\n",
       "      <td>110.000000</td>\n",
       "      <td>110.000000</td>\n",
       "      <td>110.000000</td>\n",
       "      <td>110.000000</td>\n",
       "      <td>110.000000</td>\n",
       "      <td>110.000000</td>\n",
       "      <td>110.000000</td>\n",
       "      <td>110.000000</td>\n",
       "      <td>110.000000</td>\n",
       "      <td>110.000000</td>\n",
       "      <td>110.000000</td>\n",
       "      <td>110.0</td>\n",
       "    </tr>\n",
       "    <tr>\n",
       "      <th>mean</th>\n",
       "      <td>9.501246e+05</td>\n",
       "      <td>1.451390e+06</td>\n",
       "      <td>55529.145455</td>\n",
       "      <td>2762.602636</td>\n",
       "      <td>2952.135091</td>\n",
       "      <td>2249.683400</td>\n",
       "      <td>2253.310245</td>\n",
       "      <td>2.218401</td>\n",
       "      <td>2.258468</td>\n",
       "      <td>2.285647</td>\n",
       "      <td>2.290316</td>\n",
       "      <td>2.099536</td>\n",
       "      <td>2.104474</td>\n",
       "      <td>2.499836</td>\n",
       "      <td>2.589077</td>\n",
       "      <td>1.0</td>\n",
       "    </tr>\n",
       "    <tr>\n",
       "      <th>std</th>\n",
       "      <td>1.115231e+05</td>\n",
       "      <td>1.668934e+05</td>\n",
       "      <td>27362.518583</td>\n",
       "      <td>549.719272</td>\n",
       "      <td>578.398543</td>\n",
       "      <td>1122.051734</td>\n",
       "      <td>1258.453170</td>\n",
       "      <td>0.261485</td>\n",
       "      <td>0.243170</td>\n",
       "      <td>0.234000</td>\n",
       "      <td>0.254566</td>\n",
       "      <td>0.247222</td>\n",
       "      <td>0.231585</td>\n",
       "      <td>0.452762</td>\n",
       "      <td>0.511080</td>\n",
       "      <td>0.0</td>\n",
       "    </tr>\n",
       "    <tr>\n",
       "      <th>min</th>\n",
       "      <td>6.937860e+05</td>\n",
       "      <td>1.118990e+06</td>\n",
       "      <td>11559.900000</td>\n",
       "      <td>1723.310000</td>\n",
       "      <td>1768.950000</td>\n",
       "      <td>638.589000</td>\n",
       "      <td>588.596000</td>\n",
       "      <td>1.495310</td>\n",
       "      <td>1.707950</td>\n",
       "      <td>1.642300</td>\n",
       "      <td>1.677120</td>\n",
       "      <td>1.561400</td>\n",
       "      <td>1.497610</td>\n",
       "      <td>1.560000</td>\n",
       "      <td>1.498440</td>\n",
       "      <td>1.0</td>\n",
       "    </tr>\n",
       "    <tr>\n",
       "      <th>25%</th>\n",
       "      <td>8.639480e+05</td>\n",
       "      <td>1.320102e+06</td>\n",
       "      <td>35445.050000</td>\n",
       "      <td>2352.622500</td>\n",
       "      <td>2515.637500</td>\n",
       "      <td>1460.175000</td>\n",
       "      <td>1422.110000</td>\n",
       "      <td>2.060707</td>\n",
       "      <td>2.073625</td>\n",
       "      <td>2.138282</td>\n",
       "      <td>2.113767</td>\n",
       "      <td>1.896297</td>\n",
       "      <td>1.953220</td>\n",
       "      <td>2.179527</td>\n",
       "      <td>2.193643</td>\n",
       "      <td>1.0</td>\n",
       "    </tr>\n",
       "    <tr>\n",
       "      <th>50%</th>\n",
       "      <td>9.437925e+05</td>\n",
       "      <td>1.447620e+06</td>\n",
       "      <td>48609.600000</td>\n",
       "      <td>2676.645000</td>\n",
       "      <td>2837.310000</td>\n",
       "      <td>2056.585000</td>\n",
       "      <td>1961.630000</td>\n",
       "      <td>2.236050</td>\n",
       "      <td>2.250745</td>\n",
       "      <td>2.279170</td>\n",
       "      <td>2.309255</td>\n",
       "      <td>2.111795</td>\n",
       "      <td>2.120885</td>\n",
       "      <td>2.483585</td>\n",
       "      <td>2.586340</td>\n",
       "      <td>1.0</td>\n",
       "    </tr>\n",
       "    <tr>\n",
       "      <th>75%</th>\n",
       "      <td>1.018635e+06</td>\n",
       "      <td>1.578445e+06</td>\n",
       "      <td>69904.475000</td>\n",
       "      <td>3103.387500</td>\n",
       "      <td>3370.852500</td>\n",
       "      <td>2704.627500</td>\n",
       "      <td>2782.137500</td>\n",
       "      <td>2.426540</td>\n",
       "      <td>2.457730</td>\n",
       "      <td>2.445047</td>\n",
       "      <td>2.459120</td>\n",
       "      <td>2.269547</td>\n",
       "      <td>2.226320</td>\n",
       "      <td>2.807065</td>\n",
       "      <td>2.949220</td>\n",
       "      <td>1.0</td>\n",
       "    </tr>\n",
       "    <tr>\n",
       "      <th>max</th>\n",
       "      <td>1.303590e+06</td>\n",
       "      <td>1.949090e+06</td>\n",
       "      <td>152927.000000</td>\n",
       "      <td>4853.350000</td>\n",
       "      <td>4891.560000</td>\n",
       "      <td>6082.040000</td>\n",
       "      <td>7210.340000</td>\n",
       "      <td>2.700150</td>\n",
       "      <td>2.704560</td>\n",
       "      <td>2.891490</td>\n",
       "      <td>2.844490</td>\n",
       "      <td>2.839030</td>\n",
       "      <td>2.790480</td>\n",
       "      <td>3.783510</td>\n",
       "      <td>3.744270</td>\n",
       "      <td>1.0</td>\n",
       "    </tr>\n",
       "  </tbody>\n",
       "</table>\n",
       "</div>"
      ],
      "text/plain": [
       "              BRAIN          EICV     VENTRICLES      LHIPPOC      RHIPPOC  \\\n",
       "count  1.100000e+02  1.100000e+02     110.000000   110.000000   110.000000   \n",
       "mean   9.501246e+05  1.451390e+06   55529.145455  2762.602636  2952.135091   \n",
       "std    1.115231e+05  1.668934e+05   27362.518583   549.719272   578.398543   \n",
       "min    6.937860e+05  1.118990e+06   11559.900000  1723.310000  1768.950000   \n",
       "25%    8.639480e+05  1.320102e+06   35445.050000  2352.622500  2515.637500   \n",
       "50%    9.437925e+05  1.447620e+06   48609.600000  2676.645000  2837.310000   \n",
       "75%    1.018635e+06  1.578445e+06   69904.475000  3103.387500  3370.852500   \n",
       "max    1.303590e+06  1.949090e+06  152927.000000  4853.350000  4891.560000   \n",
       "\n",
       "        LINFLATVEN   RINFLATVEN    LMIDTEMP    RMIDTEMP    LINFTEMP  \\\n",
       "count   110.000000   110.000000  110.000000  110.000000  110.000000   \n",
       "mean   2249.683400  2253.310245    2.218401    2.258468    2.285647   \n",
       "std    1122.051734  1258.453170    0.261485    0.243170    0.234000   \n",
       "min     638.589000   588.596000    1.495310    1.707950    1.642300   \n",
       "25%    1460.175000  1422.110000    2.060707    2.073625    2.138282   \n",
       "50%    2056.585000  1961.630000    2.236050    2.250745    2.279170   \n",
       "75%    2704.627500  2782.137500    2.426540    2.457730    2.445047   \n",
       "max    6082.040000  7210.340000    2.700150    2.704560    2.891490   \n",
       "\n",
       "         RINFTEMP   LFUSIFORM   RFUSIFORM   LENTORHIN   RENTORHIN  DXCURREN  \n",
       "count  110.000000  110.000000  110.000000  110.000000  110.000000     110.0  \n",
       "mean     2.290316    2.099536    2.104474    2.499836    2.589077       1.0  \n",
       "std      0.254566    0.247222    0.231585    0.452762    0.511080       0.0  \n",
       "min      1.677120    1.561400    1.497610    1.560000    1.498440       1.0  \n",
       "25%      2.113767    1.896297    1.953220    2.179527    2.193643       1.0  \n",
       "50%      2.309255    2.111795    2.120885    2.483585    2.586340       1.0  \n",
       "75%      2.459120    2.269547    2.226320    2.807065    2.949220       1.0  \n",
       "max      2.844490    2.839030    2.790480    3.783510    3.744270       1.0  "
      ]
     },
     "execution_count": 57,
     "metadata": {},
     "output_type": "execute_result"
    }
   ],
   "source": [
    "Demented.describe()"
   ]
  },
  {
   "cell_type": "code",
   "execution_count": 58,
   "metadata": {},
   "outputs": [
    {
     "data": {
      "text/html": [
       "<div>\n",
       "<style scoped>\n",
       "    .dataframe tbody tr th:only-of-type {\n",
       "        vertical-align: middle;\n",
       "    }\n",
       "\n",
       "    .dataframe tbody tr th {\n",
       "        vertical-align: top;\n",
       "    }\n",
       "\n",
       "    .dataframe thead th {\n",
       "        text-align: right;\n",
       "    }\n",
       "</style>\n",
       "<table border=\"1\" class=\"dataframe\">\n",
       "  <thead>\n",
       "    <tr style=\"text-align: right;\">\n",
       "      <th></th>\n",
       "      <th>BRAIN</th>\n",
       "      <th>EICV</th>\n",
       "      <th>VENTRICLES</th>\n",
       "      <th>LHIPPOC</th>\n",
       "      <th>RHIPPOC</th>\n",
       "      <th>LINFLATVEN</th>\n",
       "      <th>RINFLATVEN</th>\n",
       "      <th>LMIDTEMP</th>\n",
       "      <th>RMIDTEMP</th>\n",
       "      <th>LINFTEMP</th>\n",
       "      <th>RINFTEMP</th>\n",
       "      <th>LFUSIFORM</th>\n",
       "      <th>RFUSIFORM</th>\n",
       "      <th>LENTORHIN</th>\n",
       "      <th>RENTORHIN</th>\n",
       "      <th>DXCURREN</th>\n",
       "    </tr>\n",
       "  </thead>\n",
       "  <tbody>\n",
       "    <tr>\n",
       "      <th>count</th>\n",
       "      <td>1.100000e+02</td>\n",
       "      <td>1.100000e+02</td>\n",
       "      <td>110.000000</td>\n",
       "      <td>110.000000</td>\n",
       "      <td>110.000000</td>\n",
       "      <td>110.000000</td>\n",
       "      <td>110.000000</td>\n",
       "      <td>110.000000</td>\n",
       "      <td>110.000000</td>\n",
       "      <td>110.000000</td>\n",
       "      <td>110.000000</td>\n",
       "      <td>110.000000</td>\n",
       "      <td>110.000000</td>\n",
       "      <td>110.000000</td>\n",
       "      <td>110.000000</td>\n",
       "      <td>110.0</td>\n",
       "    </tr>\n",
       "    <tr>\n",
       "      <th>mean</th>\n",
       "      <td>9.963349e+05</td>\n",
       "      <td>1.458788e+06</td>\n",
       "      <td>38110.280545</td>\n",
       "      <td>3533.095727</td>\n",
       "      <td>3678.580818</td>\n",
       "      <td>1234.750545</td>\n",
       "      <td>1244.294327</td>\n",
       "      <td>2.564385</td>\n",
       "      <td>2.598034</td>\n",
       "      <td>2.620976</td>\n",
       "      <td>2.588706</td>\n",
       "      <td>2.389659</td>\n",
       "      <td>2.365876</td>\n",
       "      <td>3.186655</td>\n",
       "      <td>3.298458</td>\n",
       "      <td>0.0</td>\n",
       "    </tr>\n",
       "    <tr>\n",
       "      <th>std</th>\n",
       "      <td>1.008995e+05</td>\n",
       "      <td>1.385857e+05</td>\n",
       "      <td>19498.516050</td>\n",
       "      <td>437.641108</td>\n",
       "      <td>485.292154</td>\n",
       "      <td>600.430303</td>\n",
       "      <td>582.330046</td>\n",
       "      <td>0.164993</td>\n",
       "      <td>0.175526</td>\n",
       "      <td>0.165534</td>\n",
       "      <td>0.185919</td>\n",
       "      <td>0.168340</td>\n",
       "      <td>0.179007</td>\n",
       "      <td>0.359900</td>\n",
       "      <td>0.380936</td>\n",
       "      <td>0.0</td>\n",
       "    </tr>\n",
       "    <tr>\n",
       "      <th>min</th>\n",
       "      <td>6.345910e+05</td>\n",
       "      <td>1.059560e+06</td>\n",
       "      <td>7552.460000</td>\n",
       "      <td>2610.820000</td>\n",
       "      <td>2276.750000</td>\n",
       "      <td>296.264000</td>\n",
       "      <td>318.735000</td>\n",
       "      <td>2.144620</td>\n",
       "      <td>2.034030</td>\n",
       "      <td>2.217610</td>\n",
       "      <td>2.073350</td>\n",
       "      <td>1.944840</td>\n",
       "      <td>1.951850</td>\n",
       "      <td>2.102060</td>\n",
       "      <td>1.914300</td>\n",
       "      <td>0.0</td>\n",
       "    </tr>\n",
       "    <tr>\n",
       "      <th>25%</th>\n",
       "      <td>9.349688e+05</td>\n",
       "      <td>1.369175e+06</td>\n",
       "      <td>23096.675000</td>\n",
       "      <td>3253.775000</td>\n",
       "      <td>3387.677500</td>\n",
       "      <td>838.165250</td>\n",
       "      <td>857.978250</td>\n",
       "      <td>2.446850</td>\n",
       "      <td>2.479728</td>\n",
       "      <td>2.497962</td>\n",
       "      <td>2.465785</td>\n",
       "      <td>2.292543</td>\n",
       "      <td>2.246135</td>\n",
       "      <td>2.997032</td>\n",
       "      <td>3.141375</td>\n",
       "      <td>0.0</td>\n",
       "    </tr>\n",
       "    <tr>\n",
       "      <th>50%</th>\n",
       "      <td>9.915630e+05</td>\n",
       "      <td>1.458785e+06</td>\n",
       "      <td>35090.050000</td>\n",
       "      <td>3494.130000</td>\n",
       "      <td>3739.525000</td>\n",
       "      <td>1198.935000</td>\n",
       "      <td>1166.515000</td>\n",
       "      <td>2.576560</td>\n",
       "      <td>2.590250</td>\n",
       "      <td>2.616785</td>\n",
       "      <td>2.605465</td>\n",
       "      <td>2.388425</td>\n",
       "      <td>2.356490</td>\n",
       "      <td>3.240530</td>\n",
       "      <td>3.352955</td>\n",
       "      <td>0.0</td>\n",
       "    </tr>\n",
       "    <tr>\n",
       "      <th>75%</th>\n",
       "      <td>1.056188e+06</td>\n",
       "      <td>1.562318e+06</td>\n",
       "      <td>48850.825000</td>\n",
       "      <td>3775.557500</td>\n",
       "      <td>3913.955000</td>\n",
       "      <td>1505.482500</td>\n",
       "      <td>1506.007500</td>\n",
       "      <td>2.683677</td>\n",
       "      <td>2.722417</td>\n",
       "      <td>2.746993</td>\n",
       "      <td>2.708745</td>\n",
       "      <td>2.502875</td>\n",
       "      <td>2.479872</td>\n",
       "      <td>3.415535</td>\n",
       "      <td>3.522813</td>\n",
       "      <td>0.0</td>\n",
       "    </tr>\n",
       "    <tr>\n",
       "      <th>max</th>\n",
       "      <td>1.301340e+06</td>\n",
       "      <td>1.823070e+06</td>\n",
       "      <td>118808.000000</td>\n",
       "      <td>5514.940000</td>\n",
       "      <td>5750.400000</td>\n",
       "      <td>4551.830000</td>\n",
       "      <td>4081.390000</td>\n",
       "      <td>2.949880</td>\n",
       "      <td>3.010460</td>\n",
       "      <td>3.048830</td>\n",
       "      <td>3.141290</td>\n",
       "      <td>2.817160</td>\n",
       "      <td>2.770310</td>\n",
       "      <td>3.760310</td>\n",
       "      <td>4.075010</td>\n",
       "      <td>0.0</td>\n",
       "    </tr>\n",
       "  </tbody>\n",
       "</table>\n",
       "</div>"
      ],
      "text/plain": [
       "              BRAIN          EICV     VENTRICLES      LHIPPOC      RHIPPOC  \\\n",
       "count  1.100000e+02  1.100000e+02     110.000000   110.000000   110.000000   \n",
       "mean   9.963349e+05  1.458788e+06   38110.280545  3533.095727  3678.580818   \n",
       "std    1.008995e+05  1.385857e+05   19498.516050   437.641108   485.292154   \n",
       "min    6.345910e+05  1.059560e+06    7552.460000  2610.820000  2276.750000   \n",
       "25%    9.349688e+05  1.369175e+06   23096.675000  3253.775000  3387.677500   \n",
       "50%    9.915630e+05  1.458785e+06   35090.050000  3494.130000  3739.525000   \n",
       "75%    1.056188e+06  1.562318e+06   48850.825000  3775.557500  3913.955000   \n",
       "max    1.301340e+06  1.823070e+06  118808.000000  5514.940000  5750.400000   \n",
       "\n",
       "        LINFLATVEN   RINFLATVEN    LMIDTEMP    RMIDTEMP    LINFTEMP  \\\n",
       "count   110.000000   110.000000  110.000000  110.000000  110.000000   \n",
       "mean   1234.750545  1244.294327    2.564385    2.598034    2.620976   \n",
       "std     600.430303   582.330046    0.164993    0.175526    0.165534   \n",
       "min     296.264000   318.735000    2.144620    2.034030    2.217610   \n",
       "25%     838.165250   857.978250    2.446850    2.479728    2.497962   \n",
       "50%    1198.935000  1166.515000    2.576560    2.590250    2.616785   \n",
       "75%    1505.482500  1506.007500    2.683677    2.722417    2.746993   \n",
       "max    4551.830000  4081.390000    2.949880    3.010460    3.048830   \n",
       "\n",
       "         RINFTEMP   LFUSIFORM   RFUSIFORM   LENTORHIN   RENTORHIN  DXCURREN  \n",
       "count  110.000000  110.000000  110.000000  110.000000  110.000000     110.0  \n",
       "mean     2.588706    2.389659    2.365876    3.186655    3.298458       0.0  \n",
       "std      0.185919    0.168340    0.179007    0.359900    0.380936       0.0  \n",
       "min      2.073350    1.944840    1.951850    2.102060    1.914300       0.0  \n",
       "25%      2.465785    2.292543    2.246135    2.997032    3.141375       0.0  \n",
       "50%      2.605465    2.388425    2.356490    3.240530    3.352955       0.0  \n",
       "75%      2.708745    2.502875    2.479872    3.415535    3.522813       0.0  \n",
       "max      3.141290    2.817160    2.770310    3.760310    4.075010       0.0  "
      ]
     },
     "execution_count": 58,
     "metadata": {},
     "output_type": "execute_result"
    }
   ],
   "source": [
    "Normal.describe()"
   ]
  },
  {
   "cell_type": "code",
   "execution_count": 59,
   "metadata": {},
   "outputs": [
    {
     "name": "stdout",
     "output_type": "stream",
     "text": [
      "(Demented Patients Brain Volume): 950124.6454545455\n",
      "(Normal Patients Brain Volume): 996334.9363636364\n"
     ]
    }
   ],
   "source": [
    "print(\"(Demented Patients Brain Volume): \" + str(Demented['BRAIN'].mean()))\n",
    "print(\"(Normal Patients Brain Volume): \" + str(Normal['BRAIN'].mean()))"
   ]
  },
  {
   "cell_type": "code",
   "execution_count": 60,
   "metadata": {},
   "outputs": [
    {
     "name": "stdout",
     "output_type": "stream",
     "text": [
      "(Demented Patients Intracranial Volume): 1451390.1818181819\n",
      "(Normal Patients Intracranial Volume): 1458788.2727272727\n"
     ]
    }
   ],
   "source": [
    "print(\"(Demented Patients Intracranial Volume): \" + str(Demented['EICV'].mean()))\n",
    "print(\"(Normal Patients Intracranial Volume): \" + str(Normal['EICV'].mean()))"
   ]
  },
  {
   "cell_type": "code",
   "execution_count": 61,
   "metadata": {},
   "outputs": [
    {
     "name": "stdout",
     "output_type": "stream",
     "text": [
      "(Demented Patients Ventricle Volume): 55529.14545454543\n",
      "(Normal Patients Ventricle Volume): 38110.28054545453\n"
     ]
    }
   ],
   "source": [
    "print(\"(Demented Patients Ventricle Volume): \" + str(Demented['VENTRICLES'].mean()))\n",
    "print(\"(Normal Patients Ventricle Volume): \" + str(Normal['VENTRICLES'].mean()))"
   ]
  },
  {
   "cell_type": "markdown",
   "metadata": {},
   "source": [
    "# Building The Models "
   ]
  },
  {
   "cell_type": "code",
   "execution_count": 62,
   "metadata": {},
   "outputs": [],
   "source": [
    "X = Data.iloc[:, :-1].values\n",
    "y = Data.iloc[:, -1].values"
   ]
  },
  {
   "cell_type": "code",
   "execution_count": 63,
   "metadata": {},
   "outputs": [],
   "source": [
    "from sklearn.model_selection import train_test_split\n",
    "x_train, x_test, y_train, y_test = train_test_split(X,y,test_size = 0.3, random_state = 1)  "
   ]
  },
  {
   "cell_type": "markdown",
   "metadata": {},
   "source": [
    "# Scaling"
   ]
  },
  {
   "cell_type": "code",
   "execution_count": 64,
   "metadata": {},
   "outputs": [],
   "source": [
    "from sklearn.preprocessing import StandardScaler\n",
    "sc = StandardScaler()\n",
    "x_train = sc.fit_transform(x_train)\n",
    "x_test = sc.transform(x_test)"
   ]
  },
  {
   "cell_type": "markdown",
   "metadata": {},
   "source": [
    "# Training (logistic regression)"
   ]
  },
  {
   "cell_type": "code",
   "execution_count": 65,
   "metadata": {},
   "outputs": [
    {
     "name": "stdout",
     "output_type": "stream",
     "text": [
      "              precision    recall  f1-score   support\n",
      "\n",
      "           0       0.91      0.84      0.88        38\n",
      "           1       0.81      0.89      0.85        28\n",
      "\n",
      "    accuracy                           0.86        66\n",
      "   macro avg       0.86      0.87      0.86        66\n",
      "weighted avg       0.87      0.86      0.86        66\n",
      "\n"
     ]
    }
   ],
   "source": [
    "from sklearn.metrics import classification_report \n",
    "from sklearn.linear_model import LogisticRegression\n",
    "\n",
    "model1 = LogisticRegression(random_state=1) # get instance of model\n",
    "model1.fit(x_train, y_train) # Train/Fit model \n",
    "\n",
    "y_pred1 = model1.predict(x_test) # get y predictions\n",
    "print(classification_report(y_test, y_pred1)) # output accuracy"
   ]
  },
  {
   "cell_type": "code",
   "execution_count": 66,
   "metadata": {},
   "outputs": [
    {
     "data": {
      "image/png": "[encoded data removed]",
      "text/plain": [
       "<Figure size 432x288 with 2 Axes>"
      ]
     },
     "metadata": {
      "needs_background": "light"
     },
     "output_type": "display_data"
    }
   ],
   "source": [
    "from sklearn import metrics\n",
    "confusion_matrix = metrics.confusion_matrix(y_test, y_pred1)\n",
    "\n",
    "cm_display = metrics.ConfusionMatrixDisplay(confusion_matrix = confusion_matrix, display_labels = [False, True])\n",
    "\n",
    "cm_display.plot()\n",
    "plt.show()"
   ]
  },
  {
   "cell_type": "code",
   "execution_count": 67,
   "metadata": {},
   "outputs": [
    {
     "name": "stdout",
     "output_type": "stream",
     "text": [
      "0.8636363636363636\n"
     ]
    }
   ],
   "source": [
    "Accuracy = metrics.accuracy_score(y_test, y_pred1)\n",
    "print(Accuracy)"
   ]
  },
  {
   "cell_type": "markdown",
   "metadata": {},
   "source": [
    "# Training (K Nearest Neighbor)"
   ]
  },
  {
   "cell_type": "code",
   "execution_count": 68,
   "metadata": {},
   "outputs": [
    {
     "name": "stdout",
     "output_type": "stream",
     "text": [
      "              precision    recall  f1-score   support\n",
      "\n",
      "           0       0.89      0.89      0.89        38\n",
      "           1       0.86      0.86      0.86        28\n",
      "\n",
      "    accuracy                           0.88        66\n",
      "   macro avg       0.88      0.88      0.88        66\n",
      "weighted avg       0.88      0.88      0.88        66\n",
      "\n"
     ]
    }
   ],
   "source": [
    "from sklearn.metrics import classification_report \n",
    "from sklearn.neighbors import KNeighborsClassifier\n",
    "\n",
    "model2 = KNeighborsClassifier() # get instance of model\n",
    "model2.fit(x_train, y_train) # Train/Fit model \n",
    "\n",
    "y_pred2 = model2.predict(x_test) # get y predictions\n",
    "print(classification_report(y_test, y_pred2)) # output accuracy"
   ]
  },
  {
   "cell_type": "code",
   "execution_count": 69,
   "metadata": {},
   "outputs": [
    {
     "data": {
      "image/png": "[encoded data removed]",
      "text/plain": [
       "<Figure size 432x288 with 2 Axes>"
      ]
     },
     "metadata": {
      "needs_background": "light"
     },
     "output_type": "display_data"
    }
   ],
   "source": [
    "from sklearn import metrics\n",
    "confusion_matrix = metrics.confusion_matrix(y_test, y_pred2)\n",
    "\n",
    "cm_display = metrics.ConfusionMatrixDisplay(confusion_matrix = confusion_matrix, display_labels = [False, True])\n",
    "\n",
    "cm_display.plot()\n",
    "plt.show()"
   ]
  },
  {
   "cell_type": "code",
   "execution_count": 70,
   "metadata": {},
   "outputs": [
    {
     "name": "stdout",
     "output_type": "stream",
     "text": [
      "0.8787878787878788\n"
     ]
    }
   ],
   "source": [
    "Accuracy = metrics.accuracy_score(y_test, y_pred2)\n",
    "print(Accuracy)"
   ]
  },
  {
   "cell_type": "markdown",
   "metadata": {},
   "source": [
    "# Training (Support Vector Machine)"
   ]
  },
  {
   "cell_type": "code",
   "execution_count": 71,
   "metadata": {},
   "outputs": [
    {
     "name": "stdout",
     "output_type": "stream",
     "text": [
      "              precision    recall  f1-score   support\n",
      "\n",
      "           0       0.92      0.87      0.89        38\n",
      "           1       0.83      0.89      0.86        28\n",
      "\n",
      "    accuracy                           0.88        66\n",
      "   macro avg       0.88      0.88      0.88        66\n",
      "weighted avg       0.88      0.88      0.88        66\n",
      "\n"
     ]
    }
   ],
   "source": [
    "from sklearn.metrics import classification_report \n",
    "from sklearn.svm import SVC\n",
    "\n",
    "model3 = SVC(random_state=1) # get instance of model\n",
    "model3.fit(x_train, y_train) # Train/Fit model \n",
    "\n",
    "y_pred3 = model3.predict(x_test) # get y predictions\n",
    "print(classification_report(y_test, y_pred3)) # output accuracy"
   ]
  },
  {
   "cell_type": "code",
   "execution_count": 72,
   "metadata": {},
   "outputs": [
    {
     "data": {
      "image/png": "[encoded data removed]",
      "text/plain": [
       "<Figure size 432x288 with 2 Axes>"
      ]
     },
     "metadata": {
      "needs_background": "light"
     },
     "output_type": "display_data"
    }
   ],
   "source": [
    "from sklearn import metrics\n",
    "confusion_matrix = metrics.confusion_matrix(y_test, y_pred3)\n",
    "\n",
    "cm_display = metrics.ConfusionMatrixDisplay(confusion_matrix = confusion_matrix, display_labels = [False, True])\n",
    "\n",
    "cm_display.plot()\n",
    "plt.show()"
   ]
  },
  {
   "cell_type": "code",
   "execution_count": 73,
   "metadata": {},
   "outputs": [
    {
     "name": "stdout",
     "output_type": "stream",
     "text": [
      "0.8787878787878788\n"
     ]
    }
   ],
   "source": [
    "Accuracy = metrics.accuracy_score(y_test, y_pred3)\n",
    "print(Accuracy)"
   ]
  },
  {
   "cell_type": "markdown",
   "metadata": {},
   "source": [
    "# Training (Naive Bayes Classifier)"
   ]
  },
  {
   "cell_type": "code",
   "execution_count": 74,
   "metadata": {},
   "outputs": [
    {
     "name": "stdout",
     "output_type": "stream",
     "text": [
      "              precision    recall  f1-score   support\n",
      "\n",
      "           0       0.89      0.89      0.89        38\n",
      "           1       0.86      0.86      0.86        28\n",
      "\n",
      "    accuracy                           0.88        66\n",
      "   macro avg       0.88      0.88      0.88        66\n",
      "weighted avg       0.88      0.88      0.88        66\n",
      "\n"
     ]
    }
   ],
   "source": [
    "from sklearn.metrics import classification_report \n",
    "from sklearn.naive_bayes import GaussianNB\n",
    "\n",
    "model4 = GaussianNB() # get instance of model\n",
    "model4.fit(x_train, y_train) # Train/Fit model \n",
    "\n",
    "y_pred4 = model4.predict(x_test) # get y predictions\n",
    "print(classification_report(y_test, y_pred4)) # output accuracy"
   ]
  },
  {
   "cell_type": "code",
   "execution_count": 75,
   "metadata": {},
   "outputs": [
    {
     "data": {
      "image/png": "[encoded data removed]",
      "text/plain": [
       "<Figure size 432x288 with 2 Axes>"
      ]
     },
     "metadata": {
      "needs_background": "light"
     },
     "output_type": "display_data"
    }
   ],
   "source": [
    "from sklearn import metrics\n",
    "confusion_matrix = metrics.confusion_matrix(y_test, y_pred4)\n",
    "\n",
    "cm_display = metrics.ConfusionMatrixDisplay(confusion_matrix = confusion_matrix, display_labels = [False, True])\n",
    "\n",
    "cm_display.plot()\n",
    "plt.show()"
   ]
  },
  {
   "cell_type": "code",
   "execution_count": 76,
   "metadata": {},
   "outputs": [
    {
     "name": "stdout",
     "output_type": "stream",
     "text": [
      "0.8787878787878788\n"
     ]
    }
   ],
   "source": [
    "Accuracy = metrics.accuracy_score(y_test, y_pred4)\n",
    "print(Accuracy)"
   ]
  },
  {
   "cell_type": "markdown",
   "metadata": {},
   "source": [
    "# Training(Decision Tree)"
   ]
  },
  {
   "cell_type": "code",
   "execution_count": 77,
   "metadata": {},
   "outputs": [
    {
     "name": "stdout",
     "output_type": "stream",
     "text": [
      "              precision    recall  f1-score   support\n",
      "\n",
      "           0       0.91      0.84      0.88        38\n",
      "           1       0.81      0.89      0.85        28\n",
      "\n",
      "    accuracy                           0.86        66\n",
      "   macro avg       0.86      0.87      0.86        66\n",
      "weighted avg       0.87      0.86      0.86        66\n",
      "\n"
     ]
    }
   ],
   "source": [
    "from sklearn.metrics import classification_report \n",
    "from sklearn.tree import DecisionTreeClassifier\n",
    "\n",
    "model5 = DecisionTreeClassifier(random_state=1) # get instance of model\n",
    "model5.fit(x_train, y_train) # Train/Fit model \n",
    "\n",
    "y_pred5 = model5.predict(x_test) # get y predictions\n",
    "print(classification_report(y_test, y_pred5)) # output accuracy"
   ]
  },
  {
   "cell_type": "code",
   "execution_count": 78,
   "metadata": {},
   "outputs": [
    {
     "data": {
      "image/png": "[encoded data removed]",
      "text/plain": [
       "<Figure size 432x288 with 2 Axes>"
      ]
     },
     "metadata": {
      "needs_background": "light"
     },
     "output_type": "display_data"
    }
   ],
   "source": [
    "from sklearn import metrics\n",
    "confusion_matrix = metrics.confusion_matrix(y_test, y_pred5)\n",
    "\n",
    "cm_display = metrics.ConfusionMatrixDisplay(confusion_matrix = confusion_matrix, display_labels = [False, True])\n",
    "\n",
    "cm_display.plot()\n",
    "plt.show()"
   ]
  },
  {
   "cell_type": "code",
   "execution_count": 79,
   "metadata": {},
   "outputs": [
    {
     "name": "stdout",
     "output_type": "stream",
     "text": [
      "0.8636363636363636\n"
     ]
    }
   ],
   "source": [
    "Accuracy = metrics.accuracy_score(y_test, y_pred5)\n",
    "print(Accuracy)"
   ]
  },
  {
   "cell_type": "markdown",
   "metadata": {},
   "source": [
    "# Training(Random Forest)"
   ]
  },
  {
   "cell_type": "code",
   "execution_count": 80,
   "metadata": {},
   "outputs": [
    {
     "name": "stdout",
     "output_type": "stream",
     "text": [
      "              precision    recall  f1-score   support\n",
      "\n",
      "           0       0.92      0.87      0.89        38\n",
      "           1       0.83      0.89      0.86        28\n",
      "\n",
      "    accuracy                           0.88        66\n",
      "   macro avg       0.88      0.88      0.88        66\n",
      "weighted avg       0.88      0.88      0.88        66\n",
      "\n"
     ]
    }
   ],
   "source": [
    "from sklearn.metrics import classification_report \n",
    "from sklearn.ensemble import RandomForestClassifier\n",
    "\n",
    "model6 = RandomForestClassifier(random_state=1)# get instance of model\n",
    "model6.fit(x_train, y_train) # Train/Fit model \n",
    "\n",
    "y_pred6 = model6.predict(x_test) # get y predictions\n",
    "print(classification_report(y_test, y_pred6)) # output accuracy"
   ]
  },
  {
   "cell_type": "code",
   "execution_count": 81,
   "metadata": {},
   "outputs": [
    {
     "data": {
      "image/png": "[encoded data removed]",
      "text/plain": [
       "<Figure size 432x288 with 2 Axes>"
      ]
     },
     "metadata": {
      "needs_background": "light"
     },
     "output_type": "display_data"
    }
   ],
   "source": [
    "from sklearn import metrics\n",
    "confusion_matrix = metrics.confusion_matrix(y_test, y_pred6)\n",
    "\n",
    "cm_display = metrics.ConfusionMatrixDisplay(confusion_matrix = confusion_matrix, display_labels = [False, True])\n",
    "\n",
    "cm_display.plot()\n",
    "plt.show()"
   ]
  },
  {
   "cell_type": "code",
   "execution_count": 82,
   "metadata": {},
   "outputs": [
    {
     "name": "stdout",
     "output_type": "stream",
     "text": [
      "0.8787878787878788\n"
     ]
    }
   ],
   "source": [
    "Accuracy = metrics.accuracy_score(y_test, y_pred6)\n",
    "print(Accuracy)"
   ]
  },
  {
   "cell_type": "markdown",
   "metadata": {},
   "source": [
    "# Training (Xgboost)"
   ]
  },
  {
   "cell_type": "code",
   "execution_count": 83,
   "metadata": {},
   "outputs": [
    {
     "name": "stdout",
     "output_type": "stream",
     "text": [
      "              precision    recall  f1-score   support\n",
      "\n",
      "           0       0.92      0.89      0.91        38\n",
      "           1       0.86      0.89      0.88        28\n",
      "\n",
      "    accuracy                           0.89        66\n",
      "   macro avg       0.89      0.89      0.89        66\n",
      "weighted avg       0.89      0.89      0.89        66\n",
      "\n"
     ]
    }
   ],
   "source": [
    "from xgboost import XGBClassifier\n",
    "\n",
    "model7 = XGBClassifier(random_state=1)\n",
    "model7.fit(x_train, y_train)\n",
    "y_pred7 = model7.predict(x_test)\n",
    "print(classification_report(y_test, y_pred7))"
   ]
  },
  {
   "cell_type": "code",
   "execution_count": 84,
   "metadata": {},
   "outputs": [
    {
     "data": {
      "image/png": "[encoded data removed]",
      "text/plain": [
       "<Figure size 432x288 with 2 Axes>"
      ]
     },
     "metadata": {
      "needs_background": "light"
     },
     "output_type": "display_data"
    }
   ],
   "source": [
    "from sklearn import metrics\n",
    "confusion_matrix = metrics.confusion_matrix(y_test, y_pred7)\n",
    "\n",
    "cm_display = metrics.ConfusionMatrixDisplay(confusion_matrix = confusion_matrix, display_labels = [False, True])\n",
    "\n",
    "cm_display.plot()\n",
    "plt.show()"
   ]
  },
  {
   "cell_type": "code",
   "execution_count": 85,
   "metadata": {},
   "outputs": [
    {
     "name": "stdout",
     "output_type": "stream",
     "text": [
      "0.8939393939393939\n"
     ]
    }
   ],
   "source": [
    "Accuracy = metrics.accuracy_score(y_test, y_pred7)\n",
    "print(Accuracy)"
   ]
  },
  {
   "cell_type": "markdown",
   "metadata": {},
   "source": [
    "Xgboost has the highest accuracy of 89 percent. "
   ]
  },
  {
   "cell_type": "code",
   "execution_count": null,
   "metadata": {},
   "outputs": [],
   "source": []
  },
  {
   "cell_type": "markdown",
   "metadata": {},
   "source": [
    "# Predictions\n",
    "Scenario: A patient develops AD symptoms & you input his vitals into the Machine Learning Algorithm.\n",
    "\n",
    "His total brain volume is 400000 and his estimated intracranial volume is 500000.\n",
    "\n",
    "In addition his ventricles volume is 55529.\n",
    "\n",
    "\n"
   ]
  },
  {
   "cell_type": "code",
   "execution_count": null,
   "metadata": {},
   "outputs": [],
   "source": []
  }
 ],
 "metadata": {
  "kernelspec": {
   "display_name": "Python 3",
   "language": "python",
   "name": "python3"
  },
  "language_info": {
   "codemirror_mode": {
    "name": "ipython",
    "version": 3
   },
   "file_extension": ".py",
   "mimetype": "text/x-python",
   "name": "python",
   "nbconvert_exporter": "python",
   "pygments_lexer": "ipython3",
   "version": "3.7.3"
  }
 },
 "nbformat": 4,
 "nbformat_minor": 2
}
