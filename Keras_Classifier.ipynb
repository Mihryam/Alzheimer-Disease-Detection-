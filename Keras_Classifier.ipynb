{
  "nbformat": 4,
  "nbformat_minor": 0,
  "metadata": {
    "colab": {
      "provenance": []
    },
    "kernelspec": {
      "name": "python3",
      "display_name": "Python 3"
    },
    "language_info": {
      "name": "python"
    }
  },
  "cells": [
    {
      "cell_type": "code",
      "execution_count": 1,
      "metadata": {
        "id": "QBL6TOSkmEN0"
      },
      "outputs": [],
      "source": [
        "import numpy as np\n",
        "import pandas as pd\n",
        "from keras import layers\n",
        "import itertools\n",
        "import datetime\n",
        "from keras.utils import to_categorical\n",
        "from sklearn.preprocessing import StandardScaler\n",
        "from sklearn.model_selection import train_test_split\n",
        "from keras import Sequential\n",
        "from sklearn.metrics import confusion_matrix\n",
        "import seaborn as sns\n",
        "import matplotlib.pyplot as plt"
      ]
    },
    {
      "cell_type": "code",
      "source": [
        "Data = pd.read_csv('Data_training_and_val_set_CNvsAD.csv')"
      ],
      "metadata": {
        "id": "ePIToIj5mXJs"
      },
      "execution_count": 2,
      "outputs": []
    },
    {
      "cell_type": "code",
      "source": [
        "#dropping irrelevant feature\n",
        "Data.drop(['RID'], axis=1, inplace = True)"
      ],
      "metadata": {
        "id": "AT6eurCmohJP"
      },
      "execution_count": 3,
      "outputs": []
    },
    {
      "cell_type": "code",
      "source": [
        "x = Data.iloc[:, :-1].values\n",
        "y = Data.iloc[:, -1].values"
      ],
      "metadata": {
        "id": "sZj1zOHBmqjo"
      },
      "execution_count": 4,
      "outputs": []
    },
    {
      "cell_type": "code",
      "source": [
        "# Convert binary labels to categorical labels\n",
        "#y = to_categorical(y, num_classes=2)"
      ],
      "metadata": {
        "id": "1UN9NoS4x3gN"
      },
      "execution_count": 5,
      "outputs": []
    },
    {
      "cell_type": "code",
      "source": [
        "sc = StandardScaler()\n",
        "x = sc.fit_transform(x)"
      ],
      "metadata": {
        "id": "AkPlfp2Foo2D"
      },
      "execution_count": 5,
      "outputs": []
    },
    {
      "cell_type": "code",
      "source": [
        "#splitting the data into train,test \n",
        "xtrain, xtest, ytrain, ytest = train_test_split(x, y, test_size = 0.30)"
      ],
      "metadata": {
        "id": "zf3xw0WIo8Y-"
      },
      "execution_count": 6,
      "outputs": []
    },
    {
      "cell_type": "code",
      "source": [
        "# Define Model Section"
      ],
      "metadata": {
        "id": "_lxzGMLPpDcp"
      },
      "execution_count": 8,
      "outputs": []
    },
    {
      "cell_type": "code",
      "source": [
        "start_time = datetime.datetime.now()\n",
        "#creating the model\n",
        "def create_model():\n",
        "    model = Sequential()\n",
        "    model.add(layers.Dense(15, activation='relu', kernel_initializer='random_normal', input_shape = (xtrain.shape[1],)))\n",
        "    model.add(layers.Dense(15, activation='relu'))#, kernel_initializer='random_normal'))\n",
        "    #model.add(layers.Dense(15, activation='relu'))#, kernel_initializer='random_normal'))\n",
        "    #model.add(layers.Dense(15, activation='relu'))\n",
        "    #model.add(layers.Dense(15, activation='relu'))\n",
        "    model.add(layers.Dense(1, activation='sigmoid'))#, kernel_initializer='random_normal'))#used to be number of columns in the dataset\n",
        "    model.compile(optimizer='adam', loss='binary_crossentropy', metrics=['accuracy'])\n",
        "    return model\n"
      ],
      "metadata": {
        "id": "pRax6hMYpd6s"
      },
      "execution_count": 7,
      "outputs": []
    },
    {
      "cell_type": "code",
      "source": [
        "# validating"
      ],
      "metadata": {
        "id": "UKYd8gnorG3z"
      },
      "execution_count": 10,
      "outputs": []
    },
    {
      "cell_type": "code",
      "source": [
        "num_epochs = 50\n",
        "all_acc_histories = []\n",
        "all_loss_histories = []\n",
        "\n",
        "k = 4\n",
        "num_val_samples = len(xtrain) // k\n",
        "batch_size = max(1, len(xtrain) // 10)\n"
      ],
      "metadata": {
        "id": "X6UV7d90rIwY"
      },
      "execution_count": 8,
      "outputs": []
    },
    {
      "cell_type": "code",
      "source": [
        "for i in range(k):\n",
        "    print('processing fold #', i)\n",
        "    valdata = xtrain[i * num_val_samples: (i + 1) * num_val_samples]\n",
        "    valtargets = ytrain[i * num_val_samples: (i + 1) * num_val_samples]\n",
        "    traindata = np.concatenate(\n",
        "        [xtrain[:i * num_val_samples],\n",
        "         xtrain[(i + 1) * num_val_samples:]],\n",
        "        axis=0)\n",
        "    traintargets = np.concatenate(\n",
        "        [ytrain[:i * num_val_samples],\n",
        "         ytrain[(i + 1) * num_val_samples:]],\n",
        "        axis=0)\n",
        "    model = create_model()\n",
        "    history = model.fit(traindata, traintargets,\n",
        "                        validation_data=(xtest, ytest),\n",
        "                        epochs=num_epochs,\n",
        "                        batch_size=batch_size, verbose=1)\n",
        "    acc_history = history.history['val_accuracy']\n",
        "    all_acc_histories.append(acc_history)\n",
        "    loss_history = history.history['val_loss']\n",
        "    all_loss_histories.append(loss_history)"
      ],
      "metadata": {
        "colab": {
          "base_uri": "https://localhost:8080/"
        },
        "id": "TcjmkWesrQ67",
        "outputId": "77c8385b-2bde-42fd-90c5-7894707cf2fb"
      },
      "execution_count": 9,
      "outputs": [
        {
          "output_type": "stream",
          "name": "stdout",
          "text": [
            "processing fold # 0\n",
            "Epoch 1/50\n",
            "8/8 [==============================] - 1s 37ms/step - loss: 0.6632 - accuracy: 0.5603 - val_loss: 0.6553 - val_accuracy: 0.4697\n",
            "Epoch 2/50\n",
            "8/8 [==============================] - 0s 9ms/step - loss: 0.6249 - accuracy: 0.6379 - val_loss: 0.6239 - val_accuracy: 0.6515\n",
            "Epoch 3/50\n",
            "8/8 [==============================] - 0s 9ms/step - loss: 0.5838 - accuracy: 0.7241 - val_loss: 0.5922 - val_accuracy: 0.7727\n",
            "Epoch 4/50\n",
            "8/8 [==============================] - 0s 10ms/step - loss: 0.5402 - accuracy: 0.7931 - val_loss: 0.5651 - val_accuracy: 0.8485\n",
            "Epoch 5/50\n",
            "8/8 [==============================] - 0s 10ms/step - loss: 0.5027 - accuracy: 0.8276 - val_loss: 0.5416 - val_accuracy: 0.8485\n",
            "Epoch 6/50\n",
            "8/8 [==============================] - 0s 8ms/step - loss: 0.4697 - accuracy: 0.8362 - val_loss: 0.5210 - val_accuracy: 0.8485\n",
            "Epoch 7/50\n",
            "8/8 [==============================] - 0s 9ms/step - loss: 0.4414 - accuracy: 0.8621 - val_loss: 0.5013 - val_accuracy: 0.8485\n",
            "Epoch 8/50\n",
            "8/8 [==============================] - 0s 9ms/step - loss: 0.4157 - accuracy: 0.8793 - val_loss: 0.4840 - val_accuracy: 0.8485\n",
            "Epoch 9/50\n",
            "8/8 [==============================] - 0s 9ms/step - loss: 0.3927 - accuracy: 0.8793 - val_loss: 0.4646 - val_accuracy: 0.8636\n",
            "Epoch 10/50\n",
            "8/8 [==============================] - 0s 7ms/step - loss: 0.3696 - accuracy: 0.8879 - val_loss: 0.4486 - val_accuracy: 0.8636\n",
            "Epoch 11/50\n",
            "8/8 [==============================] - 0s 10ms/step - loss: 0.3510 - accuracy: 0.8966 - val_loss: 0.4320 - val_accuracy: 0.8788\n",
            "Epoch 12/50\n",
            "8/8 [==============================] - 0s 8ms/step - loss: 0.3312 - accuracy: 0.8966 - val_loss: 0.4190 - val_accuracy: 0.8788\n",
            "Epoch 13/50\n",
            "8/8 [==============================] - 0s 11ms/step - loss: 0.3151 - accuracy: 0.9052 - val_loss: 0.4077 - val_accuracy: 0.8788\n",
            "Epoch 14/50\n",
            "8/8 [==============================] - 0s 10ms/step - loss: 0.3035 - accuracy: 0.9052 - val_loss: 0.3988 - val_accuracy: 0.8788\n",
            "Epoch 15/50\n",
            "8/8 [==============================] - 0s 10ms/step - loss: 0.2900 - accuracy: 0.9138 - val_loss: 0.3938 - val_accuracy: 0.8788\n",
            "Epoch 16/50\n",
            "8/8 [==============================] - 0s 8ms/step - loss: 0.2806 - accuracy: 0.9138 - val_loss: 0.3903 - val_accuracy: 0.8788\n",
            "Epoch 17/50\n",
            "8/8 [==============================] - 0s 8ms/step - loss: 0.2723 - accuracy: 0.9138 - val_loss: 0.3893 - val_accuracy: 0.8788\n",
            "Epoch 18/50\n",
            "8/8 [==============================] - 0s 7ms/step - loss: 0.2660 - accuracy: 0.9138 - val_loss: 0.3881 - val_accuracy: 0.8788\n",
            "Epoch 19/50\n",
            "8/8 [==============================] - 0s 9ms/step - loss: 0.2590 - accuracy: 0.9138 - val_loss: 0.3904 - val_accuracy: 0.8788\n",
            "Epoch 20/50\n",
            "8/8 [==============================] - 0s 8ms/step - loss: 0.2544 - accuracy: 0.9138 - val_loss: 0.3914 - val_accuracy: 0.8788\n",
            "Epoch 21/50\n",
            "8/8 [==============================] - 0s 8ms/step - loss: 0.2494 - accuracy: 0.9138 - val_loss: 0.3938 - val_accuracy: 0.8636\n",
            "Epoch 22/50\n",
            "8/8 [==============================] - 0s 8ms/step - loss: 0.2447 - accuracy: 0.9138 - val_loss: 0.3981 - val_accuracy: 0.8636\n",
            "Epoch 23/50\n",
            "8/8 [==============================] - 0s 8ms/step - loss: 0.2409 - accuracy: 0.9224 - val_loss: 0.4026 - val_accuracy: 0.8788\n",
            "Epoch 24/50\n",
            "8/8 [==============================] - 0s 8ms/step - loss: 0.2366 - accuracy: 0.9224 - val_loss: 0.4075 - val_accuracy: 0.8788\n",
            "Epoch 25/50\n",
            "8/8 [==============================] - 0s 10ms/step - loss: 0.2333 - accuracy: 0.9224 - val_loss: 0.4121 - val_accuracy: 0.8788\n",
            "Epoch 26/50\n",
            "8/8 [==============================] - 0s 8ms/step - loss: 0.2300 - accuracy: 0.9224 - val_loss: 0.4174 - val_accuracy: 0.8788\n",
            "Epoch 27/50\n",
            "8/8 [==============================] - 0s 11ms/step - loss: 0.2269 - accuracy: 0.9224 - val_loss: 0.4209 - val_accuracy: 0.8636\n",
            "Epoch 28/50\n",
            "8/8 [==============================] - 0s 9ms/step - loss: 0.2240 - accuracy: 0.9224 - val_loss: 0.4258 - val_accuracy: 0.8636\n",
            "Epoch 29/50\n",
            "8/8 [==============================] - 0s 8ms/step - loss: 0.2204 - accuracy: 0.9224 - val_loss: 0.4308 - val_accuracy: 0.8636\n",
            "Epoch 30/50\n",
            "8/8 [==============================] - 0s 8ms/step - loss: 0.2172 - accuracy: 0.9310 - val_loss: 0.4361 - val_accuracy: 0.8636\n",
            "Epoch 31/50\n",
            "8/8 [==============================] - 0s 10ms/step - loss: 0.2146 - accuracy: 0.9310 - val_loss: 0.4419 - val_accuracy: 0.8636\n",
            "Epoch 32/50\n",
            "8/8 [==============================] - 0s 10ms/step - loss: 0.2120 - accuracy: 0.9310 - val_loss: 0.4487 - val_accuracy: 0.8636\n",
            "Epoch 33/50\n",
            "8/8 [==============================] - 0s 10ms/step - loss: 0.2095 - accuracy: 0.9310 - val_loss: 0.4536 - val_accuracy: 0.8636\n",
            "Epoch 34/50\n",
            "8/8 [==============================] - 0s 10ms/step - loss: 0.2069 - accuracy: 0.9310 - val_loss: 0.4594 - val_accuracy: 0.8636\n",
            "Epoch 35/50\n",
            "8/8 [==============================] - 0s 7ms/step - loss: 0.2045 - accuracy: 0.9310 - val_loss: 0.4653 - val_accuracy: 0.8636\n",
            "Epoch 36/50\n",
            "8/8 [==============================] - 0s 7ms/step - loss: 0.2022 - accuracy: 0.9310 - val_loss: 0.4708 - val_accuracy: 0.8636\n",
            "Epoch 37/50\n",
            "8/8 [==============================] - 0s 8ms/step - loss: 0.1998 - accuracy: 0.9397 - val_loss: 0.4763 - val_accuracy: 0.8636\n",
            "Epoch 38/50\n",
            "8/8 [==============================] - 0s 9ms/step - loss: 0.1976 - accuracy: 0.9397 - val_loss: 0.4808 - val_accuracy: 0.8636\n",
            "Epoch 39/50\n",
            "8/8 [==============================] - 0s 8ms/step - loss: 0.1950 - accuracy: 0.9397 - val_loss: 0.4866 - val_accuracy: 0.8636\n",
            "Epoch 40/50\n",
            "8/8 [==============================] - 0s 9ms/step - loss: 0.1926 - accuracy: 0.9397 - val_loss: 0.4934 - val_accuracy: 0.8636\n",
            "Epoch 41/50\n",
            "8/8 [==============================] - 0s 9ms/step - loss: 0.1899 - accuracy: 0.9397 - val_loss: 0.4986 - val_accuracy: 0.8636\n",
            "Epoch 42/50\n",
            "8/8 [==============================] - 0s 10ms/step - loss: 0.1874 - accuracy: 0.9397 - val_loss: 0.5032 - val_accuracy: 0.8636\n",
            "Epoch 43/50\n",
            "8/8 [==============================] - 0s 8ms/step - loss: 0.1844 - accuracy: 0.9397 - val_loss: 0.5084 - val_accuracy: 0.8636\n",
            "Epoch 44/50\n",
            "8/8 [==============================] - 0s 8ms/step - loss: 0.1827 - accuracy: 0.9483 - val_loss: 0.5128 - val_accuracy: 0.8636\n",
            "Epoch 45/50\n",
            "8/8 [==============================] - 0s 9ms/step - loss: 0.1791 - accuracy: 0.9483 - val_loss: 0.5165 - val_accuracy: 0.8636\n",
            "Epoch 46/50\n",
            "8/8 [==============================] - 0s 8ms/step - loss: 0.1767 - accuracy: 0.9483 - val_loss: 0.5210 - val_accuracy: 0.8788\n",
            "Epoch 47/50\n",
            "8/8 [==============================] - 0s 10ms/step - loss: 0.1743 - accuracy: 0.9483 - val_loss: 0.5253 - val_accuracy: 0.8788\n",
            "Epoch 48/50\n",
            "8/8 [==============================] - 0s 7ms/step - loss: 0.1717 - accuracy: 0.9483 - val_loss: 0.5292 - val_accuracy: 0.8788\n",
            "Epoch 49/50\n",
            "8/8 [==============================] - 0s 9ms/step - loss: 0.1695 - accuracy: 0.9483 - val_loss: 0.5334 - val_accuracy: 0.8788\n",
            "Epoch 50/50\n",
            "8/8 [==============================] - 0s 7ms/step - loss: 0.1667 - accuracy: 0.9483 - val_loss: 0.5395 - val_accuracy: 0.8788\n",
            "processing fold # 1\n",
            "Epoch 1/50\n",
            "8/8 [==============================] - 1s 32ms/step - loss: 0.6846 - accuracy: 0.5776 - val_loss: 0.6586 - val_accuracy: 0.6818\n",
            "Epoch 2/50\n",
            "8/8 [==============================] - 0s 12ms/step - loss: 0.6507 - accuracy: 0.7069 - val_loss: 0.6240 - val_accuracy: 0.7727\n",
            "Epoch 3/50\n",
            "8/8 [==============================] - 0s 9ms/step - loss: 0.6199 - accuracy: 0.8276 - val_loss: 0.5879 - val_accuracy: 0.8030\n",
            "Epoch 4/50\n",
            "8/8 [==============================] - 0s 8ms/step - loss: 0.5887 - accuracy: 0.8621 - val_loss: 0.5535 - val_accuracy: 0.8182\n",
            "Epoch 5/50\n",
            "8/8 [==============================] - 0s 8ms/step - loss: 0.5581 - accuracy: 0.8621 - val_loss: 0.5195 - val_accuracy: 0.8182\n",
            "Epoch 6/50\n",
            "8/8 [==============================] - 0s 10ms/step - loss: 0.5272 - accuracy: 0.8707 - val_loss: 0.4863 - val_accuracy: 0.8333\n",
            "Epoch 7/50\n",
            "8/8 [==============================] - 0s 8ms/step - loss: 0.4958 - accuracy: 0.8793 - val_loss: 0.4568 - val_accuracy: 0.8636\n",
            "Epoch 8/50\n",
            "8/8 [==============================] - 0s 9ms/step - loss: 0.4667 - accuracy: 0.8793 - val_loss: 0.4304 - val_accuracy: 0.8636\n",
            "Epoch 9/50\n",
            "8/8 [==============================] - 0s 9ms/step - loss: 0.4418 - accuracy: 0.8879 - val_loss: 0.4066 - val_accuracy: 0.8636\n",
            "Epoch 10/50\n",
            "8/8 [==============================] - 0s 7ms/step - loss: 0.4164 - accuracy: 0.8966 - val_loss: 0.3881 - val_accuracy: 0.8788\n",
            "Epoch 11/50\n",
            "8/8 [==============================] - 0s 8ms/step - loss: 0.3964 - accuracy: 0.8966 - val_loss: 0.3714 - val_accuracy: 0.8788\n",
            "Epoch 12/50\n",
            "8/8 [==============================] - 0s 9ms/step - loss: 0.3770 - accuracy: 0.8966 - val_loss: 0.3597 - val_accuracy: 0.8788\n",
            "Epoch 13/50\n",
            "8/8 [==============================] - 0s 8ms/step - loss: 0.3613 - accuracy: 0.8966 - val_loss: 0.3497 - val_accuracy: 0.8636\n",
            "Epoch 14/50\n",
            "8/8 [==============================] - 0s 9ms/step - loss: 0.3468 - accuracy: 0.8879 - val_loss: 0.3427 - val_accuracy: 0.8636\n",
            "Epoch 15/50\n",
            "8/8 [==============================] - 0s 10ms/step - loss: 0.3345 - accuracy: 0.8966 - val_loss: 0.3361 - val_accuracy: 0.8636\n",
            "Epoch 16/50\n",
            "8/8 [==============================] - 0s 9ms/step - loss: 0.3234 - accuracy: 0.8966 - val_loss: 0.3326 - val_accuracy: 0.8636\n",
            "Epoch 17/50\n",
            "8/8 [==============================] - 0s 9ms/step - loss: 0.3135 - accuracy: 0.8966 - val_loss: 0.3307 - val_accuracy: 0.8485\n",
            "Epoch 18/50\n",
            "8/8 [==============================] - 0s 9ms/step - loss: 0.3050 - accuracy: 0.8966 - val_loss: 0.3297 - val_accuracy: 0.8485\n",
            "Epoch 19/50\n",
            "8/8 [==============================] - 0s 7ms/step - loss: 0.2971 - accuracy: 0.9052 - val_loss: 0.3301 - val_accuracy: 0.8485\n",
            "Epoch 20/50\n",
            "8/8 [==============================] - 0s 11ms/step - loss: 0.2909 - accuracy: 0.9138 - val_loss: 0.3314 - val_accuracy: 0.8485\n",
            "Epoch 21/50\n",
            "8/8 [==============================] - 0s 8ms/step - loss: 0.2851 - accuracy: 0.9138 - val_loss: 0.3341 - val_accuracy: 0.8636\n",
            "Epoch 22/50\n",
            "8/8 [==============================] - 0s 8ms/step - loss: 0.2796 - accuracy: 0.9138 - val_loss: 0.3365 - val_accuracy: 0.8485\n",
            "Epoch 23/50\n",
            "8/8 [==============================] - 0s 10ms/step - loss: 0.2754 - accuracy: 0.9052 - val_loss: 0.3389 - val_accuracy: 0.8485\n",
            "Epoch 24/50\n",
            "8/8 [==============================] - 0s 9ms/step - loss: 0.2704 - accuracy: 0.9138 - val_loss: 0.3410 - val_accuracy: 0.8636\n",
            "Epoch 25/50\n",
            "8/8 [==============================] - 0s 8ms/step - loss: 0.2669 - accuracy: 0.9138 - val_loss: 0.3438 - val_accuracy: 0.8636\n",
            "Epoch 26/50\n",
            "8/8 [==============================] - 0s 10ms/step - loss: 0.2633 - accuracy: 0.9138 - val_loss: 0.3466 - val_accuracy: 0.8636\n",
            "Epoch 27/50\n",
            "8/8 [==============================] - 0s 8ms/step - loss: 0.2601 - accuracy: 0.9138 - val_loss: 0.3502 - val_accuracy: 0.8636\n",
            "Epoch 28/50\n",
            "8/8 [==============================] - 0s 10ms/step - loss: 0.2571 - accuracy: 0.9138 - val_loss: 0.3535 - val_accuracy: 0.8636\n",
            "Epoch 29/50\n",
            "8/8 [==============================] - 0s 10ms/step - loss: 0.2539 - accuracy: 0.9138 - val_loss: 0.3566 - val_accuracy: 0.8636\n",
            "Epoch 30/50\n",
            "8/8 [==============================] - 0s 10ms/step - loss: 0.2505 - accuracy: 0.9138 - val_loss: 0.3600 - val_accuracy: 0.8636\n",
            "Epoch 31/50\n",
            "8/8 [==============================] - 0s 10ms/step - loss: 0.2477 - accuracy: 0.9138 - val_loss: 0.3627 - val_accuracy: 0.8636\n",
            "Epoch 32/50\n",
            "8/8 [==============================] - 0s 7ms/step - loss: 0.2446 - accuracy: 0.9138 - val_loss: 0.3661 - val_accuracy: 0.8636\n",
            "Epoch 33/50\n",
            "8/8 [==============================] - 0s 11ms/step - loss: 0.2420 - accuracy: 0.9138 - val_loss: 0.3699 - val_accuracy: 0.8636\n",
            "Epoch 34/50\n",
            "8/8 [==============================] - 0s 8ms/step - loss: 0.2387 - accuracy: 0.9138 - val_loss: 0.3733 - val_accuracy: 0.8636\n",
            "Epoch 35/50\n",
            "8/8 [==============================] - 0s 10ms/step - loss: 0.2368 - accuracy: 0.9138 - val_loss: 0.3763 - val_accuracy: 0.8636\n",
            "Epoch 36/50\n",
            "8/8 [==============================] - 0s 10ms/step - loss: 0.2338 - accuracy: 0.9138 - val_loss: 0.3787 - val_accuracy: 0.8788\n",
            "Epoch 37/50\n",
            "8/8 [==============================] - 0s 9ms/step - loss: 0.2310 - accuracy: 0.9138 - val_loss: 0.3824 - val_accuracy: 0.8788\n",
            "Epoch 38/50\n",
            "8/8 [==============================] - 0s 8ms/step - loss: 0.2284 - accuracy: 0.9224 - val_loss: 0.3854 - val_accuracy: 0.8788\n",
            "Epoch 39/50\n",
            "8/8 [==============================] - 0s 8ms/step - loss: 0.2255 - accuracy: 0.9224 - val_loss: 0.3886 - val_accuracy: 0.8788\n",
            "Epoch 40/50\n",
            "8/8 [==============================] - 0s 9ms/step - loss: 0.2232 - accuracy: 0.9224 - val_loss: 0.3927 - val_accuracy: 0.8788\n",
            "Epoch 41/50\n",
            "8/8 [==============================] - 0s 10ms/step - loss: 0.2208 - accuracy: 0.9224 - val_loss: 0.3959 - val_accuracy: 0.8788\n",
            "Epoch 42/50\n",
            "8/8 [==============================] - 0s 11ms/step - loss: 0.2186 - accuracy: 0.9224 - val_loss: 0.3986 - val_accuracy: 0.8788\n",
            "Epoch 43/50\n",
            "8/8 [==============================] - 0s 10ms/step - loss: 0.2158 - accuracy: 0.9224 - val_loss: 0.4017 - val_accuracy: 0.8788\n",
            "Epoch 44/50\n",
            "8/8 [==============================] - 0s 8ms/step - loss: 0.2132 - accuracy: 0.9224 - val_loss: 0.4054 - val_accuracy: 0.8788\n",
            "Epoch 45/50\n",
            "8/8 [==============================] - 0s 8ms/step - loss: 0.2107 - accuracy: 0.9224 - val_loss: 0.4101 - val_accuracy: 0.8788\n",
            "Epoch 46/50\n",
            "8/8 [==============================] - 0s 10ms/step - loss: 0.2081 - accuracy: 0.9224 - val_loss: 0.4130 - val_accuracy: 0.8788\n",
            "Epoch 47/50\n",
            "8/8 [==============================] - 0s 8ms/step - loss: 0.2065 - accuracy: 0.9224 - val_loss: 0.4184 - val_accuracy: 0.8636\n",
            "Epoch 48/50\n",
            "8/8 [==============================] - 0s 8ms/step - loss: 0.2040 - accuracy: 0.9224 - val_loss: 0.4221 - val_accuracy: 0.8636\n",
            "Epoch 49/50\n",
            "8/8 [==============================] - 0s 8ms/step - loss: 0.2014 - accuracy: 0.9310 - val_loss: 0.4278 - val_accuracy: 0.8636\n",
            "Epoch 50/50\n",
            "8/8 [==============================] - 0s 7ms/step - loss: 0.1988 - accuracy: 0.9310 - val_loss: 0.4319 - val_accuracy: 0.8636\n",
            "processing fold # 2\n",
            "Epoch 1/50\n",
            "8/8 [==============================] - 1s 39ms/step - loss: 0.6357 - accuracy: 0.5603 - val_loss: 0.6364 - val_accuracy: 0.5000\n",
            "Epoch 2/50\n",
            "8/8 [==============================] - 0s 10ms/step - loss: 0.5967 - accuracy: 0.6207 - val_loss: 0.6102 - val_accuracy: 0.6667\n",
            "Epoch 3/50\n",
            "8/8 [==============================] - 0s 8ms/step - loss: 0.5636 - accuracy: 0.7328 - val_loss: 0.5839 - val_accuracy: 0.7879\n",
            "Epoch 4/50\n",
            "8/8 [==============================] - 0s 8ms/step - loss: 0.5298 - accuracy: 0.7672 - val_loss: 0.5602 - val_accuracy: 0.8333\n",
            "Epoch 5/50\n",
            "8/8 [==============================] - 0s 8ms/step - loss: 0.4980 - accuracy: 0.8362 - val_loss: 0.5399 - val_accuracy: 0.8333\n",
            "Epoch 6/50\n",
            "8/8 [==============================] - 0s 10ms/step - loss: 0.4699 - accuracy: 0.8793 - val_loss: 0.5217 - val_accuracy: 0.8333\n",
            "Epoch 7/50\n",
            "8/8 [==============================] - 0s 10ms/step - loss: 0.4441 - accuracy: 0.8793 - val_loss: 0.5061 - val_accuracy: 0.8485\n",
            "Epoch 8/50\n",
            "8/8 [==============================] - 0s 8ms/step - loss: 0.4241 - accuracy: 0.8707 - val_loss: 0.4899 - val_accuracy: 0.8636\n",
            "Epoch 9/50\n",
            "8/8 [==============================] - 0s 8ms/step - loss: 0.4010 - accuracy: 0.8879 - val_loss: 0.4766 - val_accuracy: 0.8636\n",
            "Epoch 10/50\n",
            "8/8 [==============================] - 0s 9ms/step - loss: 0.3826 - accuracy: 0.8879 - val_loss: 0.4616 - val_accuracy: 0.8636\n",
            "Epoch 11/50\n",
            "8/8 [==============================] - 0s 8ms/step - loss: 0.3624 - accuracy: 0.8879 - val_loss: 0.4480 - val_accuracy: 0.8636\n",
            "Epoch 12/50\n",
            "8/8 [==============================] - 0s 11ms/step - loss: 0.3467 - accuracy: 0.8966 - val_loss: 0.4322 - val_accuracy: 0.8788\n",
            "Epoch 13/50\n",
            "8/8 [==============================] - 0s 9ms/step - loss: 0.3300 - accuracy: 0.8966 - val_loss: 0.4194 - val_accuracy: 0.8788\n",
            "Epoch 14/50\n",
            "8/8 [==============================] - 0s 8ms/step - loss: 0.3155 - accuracy: 0.8966 - val_loss: 0.4095 - val_accuracy: 0.8788\n",
            "Epoch 15/50\n",
            "8/8 [==============================] - 0s 10ms/step - loss: 0.3031 - accuracy: 0.8966 - val_loss: 0.4013 - val_accuracy: 0.8788\n",
            "Epoch 16/50\n",
            "8/8 [==============================] - 0s 9ms/step - loss: 0.2927 - accuracy: 0.8966 - val_loss: 0.3963 - val_accuracy: 0.8788\n",
            "Epoch 17/50\n",
            "8/8 [==============================] - 0s 8ms/step - loss: 0.2837 - accuracy: 0.8966 - val_loss: 0.3929 - val_accuracy: 0.8788\n",
            "Epoch 18/50\n",
            "8/8 [==============================] - 0s 8ms/step - loss: 0.2775 - accuracy: 0.8966 - val_loss: 0.3898 - val_accuracy: 0.8788\n",
            "Epoch 19/50\n",
            "8/8 [==============================] - 0s 8ms/step - loss: 0.2694 - accuracy: 0.8966 - val_loss: 0.3887 - val_accuracy: 0.8939\n",
            "Epoch 20/50\n",
            "8/8 [==============================] - 0s 9ms/step - loss: 0.2642 - accuracy: 0.8966 - val_loss: 0.3882 - val_accuracy: 0.8939\n",
            "Epoch 21/50\n",
            "8/8 [==============================] - 0s 8ms/step - loss: 0.2583 - accuracy: 0.8966 - val_loss: 0.3880 - val_accuracy: 0.8939\n",
            "Epoch 22/50\n",
            "8/8 [==============================] - 0s 10ms/step - loss: 0.2531 - accuracy: 0.8966 - val_loss: 0.3892 - val_accuracy: 0.8939\n",
            "Epoch 23/50\n",
            "8/8 [==============================] - 0s 8ms/step - loss: 0.2484 - accuracy: 0.8966 - val_loss: 0.3905 - val_accuracy: 0.8939\n",
            "Epoch 24/50\n",
            "8/8 [==============================] - 0s 10ms/step - loss: 0.2441 - accuracy: 0.9052 - val_loss: 0.3929 - val_accuracy: 0.8939\n",
            "Epoch 25/50\n",
            "8/8 [==============================] - 0s 10ms/step - loss: 0.2395 - accuracy: 0.9138 - val_loss: 0.3955 - val_accuracy: 0.8939\n",
            "Epoch 26/50\n",
            "8/8 [==============================] - 0s 10ms/step - loss: 0.2343 - accuracy: 0.9138 - val_loss: 0.3966 - val_accuracy: 0.8939\n",
            "Epoch 27/50\n",
            "8/8 [==============================] - 0s 10ms/step - loss: 0.2300 - accuracy: 0.9138 - val_loss: 0.3980 - val_accuracy: 0.8939\n",
            "Epoch 28/50\n",
            "8/8 [==============================] - 0s 9ms/step - loss: 0.2247 - accuracy: 0.9138 - val_loss: 0.4014 - val_accuracy: 0.8939\n",
            "Epoch 29/50\n",
            "8/8 [==============================] - 0s 10ms/step - loss: 0.2194 - accuracy: 0.9138 - val_loss: 0.4037 - val_accuracy: 0.8939\n",
            "Epoch 30/50\n",
            "8/8 [==============================] - 0s 8ms/step - loss: 0.2139 - accuracy: 0.9138 - val_loss: 0.4061 - val_accuracy: 0.8939\n",
            "Epoch 31/50\n",
            "8/8 [==============================] - 0s 8ms/step - loss: 0.2096 - accuracy: 0.9138 - val_loss: 0.4075 - val_accuracy: 0.8939\n",
            "Epoch 32/50\n",
            "8/8 [==============================] - 0s 10ms/step - loss: 0.2032 - accuracy: 0.9138 - val_loss: 0.4092 - val_accuracy: 0.8939\n",
            "Epoch 33/50\n",
            "8/8 [==============================] - 0s 10ms/step - loss: 0.1986 - accuracy: 0.9138 - val_loss: 0.4090 - val_accuracy: 0.8939\n",
            "Epoch 34/50\n",
            "8/8 [==============================] - 0s 8ms/step - loss: 0.1937 - accuracy: 0.9224 - val_loss: 0.4108 - val_accuracy: 0.8939\n",
            "Epoch 35/50\n",
            "8/8 [==============================] - 0s 10ms/step - loss: 0.1895 - accuracy: 0.9224 - val_loss: 0.4124 - val_accuracy: 0.8939\n",
            "Epoch 36/50\n",
            "8/8 [==============================] - 0s 8ms/step - loss: 0.1845 - accuracy: 0.9397 - val_loss: 0.4143 - val_accuracy: 0.8939\n",
            "Epoch 37/50\n",
            "8/8 [==============================] - 0s 8ms/step - loss: 0.1803 - accuracy: 0.9397 - val_loss: 0.4164 - val_accuracy: 0.8939\n",
            "Epoch 38/50\n",
            "8/8 [==============================] - 0s 8ms/step - loss: 0.1759 - accuracy: 0.9483 - val_loss: 0.4196 - val_accuracy: 0.8939\n",
            "Epoch 39/50\n",
            "8/8 [==============================] - 0s 10ms/step - loss: 0.1719 - accuracy: 0.9483 - val_loss: 0.4223 - val_accuracy: 0.8939\n",
            "Epoch 40/50\n",
            "8/8 [==============================] - 0s 8ms/step - loss: 0.1682 - accuracy: 0.9397 - val_loss: 0.4245 - val_accuracy: 0.8939\n",
            "Epoch 41/50\n",
            "8/8 [==============================] - 0s 8ms/step - loss: 0.1643 - accuracy: 0.9483 - val_loss: 0.4267 - val_accuracy: 0.8939\n",
            "Epoch 42/50\n",
            "8/8 [==============================] - 0s 10ms/step - loss: 0.1602 - accuracy: 0.9569 - val_loss: 0.4304 - val_accuracy: 0.8939\n",
            "Epoch 43/50\n",
            "8/8 [==============================] - 0s 10ms/step - loss: 0.1566 - accuracy: 0.9569 - val_loss: 0.4340 - val_accuracy: 0.8939\n",
            "Epoch 44/50\n",
            "8/8 [==============================] - 0s 9ms/step - loss: 0.1536 - accuracy: 0.9483 - val_loss: 0.4384 - val_accuracy: 0.8939\n",
            "Epoch 45/50\n",
            "8/8 [==============================] - 0s 9ms/step - loss: 0.1503 - accuracy: 0.9483 - val_loss: 0.4396 - val_accuracy: 0.8939\n",
            "Epoch 46/50\n",
            "8/8 [==============================] - 0s 9ms/step - loss: 0.1468 - accuracy: 0.9483 - val_loss: 0.4422 - val_accuracy: 0.8939\n",
            "Epoch 47/50\n",
            "8/8 [==============================] - 0s 8ms/step - loss: 0.1443 - accuracy: 0.9483 - val_loss: 0.4469 - val_accuracy: 0.8939\n",
            "Epoch 48/50\n",
            "8/8 [==============================] - 0s 8ms/step - loss: 0.1415 - accuracy: 0.9483 - val_loss: 0.4513 - val_accuracy: 0.8939\n",
            "Epoch 49/50\n",
            "8/8 [==============================] - 0s 8ms/step - loss: 0.1384 - accuracy: 0.9569 - val_loss: 0.4544 - val_accuracy: 0.8939\n",
            "Epoch 50/50\n",
            "8/8 [==============================] - 0s 7ms/step - loss: 0.1362 - accuracy: 0.9569 - val_loss: 0.4578 - val_accuracy: 0.8939\n",
            "processing fold # 3\n",
            "Epoch 1/50\n",
            "8/8 [==============================] - 1s 76ms/step - loss: 0.6899 - accuracy: 0.4914 - val_loss: 0.6583 - val_accuracy: 0.6667\n",
            "Epoch 2/50\n",
            "8/8 [==============================] - 0s 8ms/step - loss: 0.6527 - accuracy: 0.7241 - val_loss: 0.6130 - val_accuracy: 0.8333\n",
            "Epoch 3/50\n",
            "8/8 [==============================] - 0s 8ms/step - loss: 0.6187 - accuracy: 0.8103 - val_loss: 0.5784 - val_accuracy: 0.8333\n",
            "Epoch 4/50\n",
            "8/8 [==============================] - 0s 26ms/step - loss: 0.5927 - accuracy: 0.8362 - val_loss: 0.5466 - val_accuracy: 0.8485\n",
            "Epoch 5/50\n",
            "8/8 [==============================] - 0s 23ms/step - loss: 0.5666 - accuracy: 0.8448 - val_loss: 0.5179 - val_accuracy: 0.8636\n",
            "Epoch 6/50\n",
            "8/8 [==============================] - 0s 16ms/step - loss: 0.5396 - accuracy: 0.8534 - val_loss: 0.4886 - val_accuracy: 0.8636\n",
            "Epoch 7/50\n",
            "8/8 [==============================] - 0s 12ms/step - loss: 0.5102 - accuracy: 0.8621 - val_loss: 0.4598 - val_accuracy: 0.8636\n",
            "Epoch 8/50\n",
            "8/8 [==============================] - 0s 11ms/step - loss: 0.4805 - accuracy: 0.8534 - val_loss: 0.4329 - val_accuracy: 0.8636\n",
            "Epoch 9/50\n",
            "8/8 [==============================] - 0s 21ms/step - loss: 0.4517 - accuracy: 0.8534 - val_loss: 0.4081 - val_accuracy: 0.8636\n",
            "Epoch 10/50\n",
            "8/8 [==============================] - 0s 20ms/step - loss: 0.4242 - accuracy: 0.8534 - val_loss: 0.3867 - val_accuracy: 0.8788\n",
            "Epoch 11/50\n",
            "8/8 [==============================] - 0s 22ms/step - loss: 0.4013 - accuracy: 0.8448 - val_loss: 0.3693 - val_accuracy: 0.8939\n",
            "Epoch 12/50\n",
            "8/8 [==============================] - 0s 16ms/step - loss: 0.3805 - accuracy: 0.8534 - val_loss: 0.3567 - val_accuracy: 0.8939\n",
            "Epoch 13/50\n",
            "8/8 [==============================] - 0s 21ms/step - loss: 0.3614 - accuracy: 0.8534 - val_loss: 0.3485 - val_accuracy: 0.8788\n",
            "Epoch 14/50\n",
            "8/8 [==============================] - 0s 15ms/step - loss: 0.3474 - accuracy: 0.8534 - val_loss: 0.3419 - val_accuracy: 0.8636\n",
            "Epoch 15/50\n",
            "8/8 [==============================] - 0s 30ms/step - loss: 0.3348 - accuracy: 0.8534 - val_loss: 0.3387 - val_accuracy: 0.8636\n",
            "Epoch 16/50\n",
            "8/8 [==============================] - 0s 17ms/step - loss: 0.3240 - accuracy: 0.8621 - val_loss: 0.3374 - val_accuracy: 0.8636\n",
            "Epoch 17/50\n",
            "8/8 [==============================] - 0s 14ms/step - loss: 0.3148 - accuracy: 0.8707 - val_loss: 0.3351 - val_accuracy: 0.8636\n",
            "Epoch 18/50\n",
            "8/8 [==============================] - 0s 12ms/step - loss: 0.3071 - accuracy: 0.8793 - val_loss: 0.3342 - val_accuracy: 0.8636\n",
            "Epoch 19/50\n",
            "8/8 [==============================] - 0s 22ms/step - loss: 0.3009 - accuracy: 0.8793 - val_loss: 0.3334 - val_accuracy: 0.8636\n",
            "Epoch 20/50\n",
            "8/8 [==============================] - 0s 27ms/step - loss: 0.2945 - accuracy: 0.8793 - val_loss: 0.3366 - val_accuracy: 0.8636\n",
            "Epoch 21/50\n",
            "8/8 [==============================] - 0s 24ms/step - loss: 0.2888 - accuracy: 0.8879 - val_loss: 0.3379 - val_accuracy: 0.8636\n",
            "Epoch 22/50\n",
            "8/8 [==============================] - 0s 26ms/step - loss: 0.2832 - accuracy: 0.8879 - val_loss: 0.3389 - val_accuracy: 0.8636\n",
            "Epoch 23/50\n",
            "8/8 [==============================] - 0s 15ms/step - loss: 0.2790 - accuracy: 0.8879 - val_loss: 0.3391 - val_accuracy: 0.8636\n",
            "Epoch 24/50\n",
            "8/8 [==============================] - 0s 14ms/step - loss: 0.2739 - accuracy: 0.8879 - val_loss: 0.3400 - val_accuracy: 0.8636\n",
            "Epoch 25/50\n",
            "8/8 [==============================] - 0s 16ms/step - loss: 0.2712 - accuracy: 0.8879 - val_loss: 0.3438 - val_accuracy: 0.8636\n",
            "Epoch 26/50\n",
            "8/8 [==============================] - 0s 26ms/step - loss: 0.2656 - accuracy: 0.8879 - val_loss: 0.3437 - val_accuracy: 0.8636\n",
            "Epoch 27/50\n",
            "8/8 [==============================] - 0s 43ms/step - loss: 0.2620 - accuracy: 0.8879 - val_loss: 0.3450 - val_accuracy: 0.8636\n",
            "Epoch 28/50\n",
            "8/8 [==============================] - 0s 28ms/step - loss: 0.2579 - accuracy: 0.8966 - val_loss: 0.3467 - val_accuracy: 0.8636\n",
            "Epoch 29/50\n",
            "8/8 [==============================] - 0s 25ms/step - loss: 0.2541 - accuracy: 0.8966 - val_loss: 0.3491 - val_accuracy: 0.8636\n",
            "Epoch 30/50\n",
            "8/8 [==============================] - 0s 34ms/step - loss: 0.2505 - accuracy: 0.9052 - val_loss: 0.3514 - val_accuracy: 0.8636\n",
            "Epoch 31/50\n",
            "8/8 [==============================] - 0s 22ms/step - loss: 0.2473 - accuracy: 0.9052 - val_loss: 0.3543 - val_accuracy: 0.8636\n",
            "Epoch 32/50\n",
            "8/8 [==============================] - 0s 27ms/step - loss: 0.2437 - accuracy: 0.9052 - val_loss: 0.3559 - val_accuracy: 0.8636\n",
            "Epoch 33/50\n",
            "8/8 [==============================] - 0s 43ms/step - loss: 0.2403 - accuracy: 0.9138 - val_loss: 0.3579 - val_accuracy: 0.8636\n",
            "Epoch 34/50\n",
            "8/8 [==============================] - 0s 29ms/step - loss: 0.2375 - accuracy: 0.9138 - val_loss: 0.3597 - val_accuracy: 0.8636\n",
            "Epoch 35/50\n",
            "8/8 [==============================] - 0s 32ms/step - loss: 0.2345 - accuracy: 0.9138 - val_loss: 0.3614 - val_accuracy: 0.8636\n",
            "Epoch 36/50\n",
            "8/8 [==============================] - 0s 31ms/step - loss: 0.2315 - accuracy: 0.9138 - val_loss: 0.3634 - val_accuracy: 0.8636\n",
            "Epoch 37/50\n",
            "8/8 [==============================] - 0s 36ms/step - loss: 0.2291 - accuracy: 0.9138 - val_loss: 0.3668 - val_accuracy: 0.8636\n",
            "Epoch 38/50\n",
            "8/8 [==============================] - 0s 25ms/step - loss: 0.2258 - accuracy: 0.9138 - val_loss: 0.3684 - val_accuracy: 0.8636\n",
            "Epoch 39/50\n",
            "8/8 [==============================] - 0s 13ms/step - loss: 0.2227 - accuracy: 0.9138 - val_loss: 0.3704 - val_accuracy: 0.8636\n",
            "Epoch 40/50\n",
            "8/8 [==============================] - 0s 14ms/step - loss: 0.2198 - accuracy: 0.9138 - val_loss: 0.3738 - val_accuracy: 0.8636\n",
            "Epoch 41/50\n",
            "8/8 [==============================] - 0s 19ms/step - loss: 0.2167 - accuracy: 0.9138 - val_loss: 0.3765 - val_accuracy: 0.8636\n",
            "Epoch 42/50\n",
            "8/8 [==============================] - 0s 21ms/step - loss: 0.2138 - accuracy: 0.9138 - val_loss: 0.3773 - val_accuracy: 0.8636\n",
            "Epoch 43/50\n",
            "8/8 [==============================] - 0s 16ms/step - loss: 0.2110 - accuracy: 0.9224 - val_loss: 0.3795 - val_accuracy: 0.8636\n",
            "Epoch 44/50\n",
            "8/8 [==============================] - 0s 18ms/step - loss: 0.2077 - accuracy: 0.9224 - val_loss: 0.3819 - val_accuracy: 0.8636\n",
            "Epoch 45/50\n",
            "8/8 [==============================] - 0s 21ms/step - loss: 0.2052 - accuracy: 0.9224 - val_loss: 0.3840 - val_accuracy: 0.8636\n",
            "Epoch 46/50\n",
            "8/8 [==============================] - 0s 14ms/step - loss: 0.2025 - accuracy: 0.9310 - val_loss: 0.3862 - val_accuracy: 0.8636\n",
            "Epoch 47/50\n",
            "8/8 [==============================] - 0s 30ms/step - loss: 0.1998 - accuracy: 0.9310 - val_loss: 0.3886 - val_accuracy: 0.8636\n",
            "Epoch 48/50\n",
            "8/8 [==============================] - 0s 17ms/step - loss: 0.1975 - accuracy: 0.9310 - val_loss: 0.3914 - val_accuracy: 0.8636\n",
            "Epoch 49/50\n",
            "8/8 [==============================] - 0s 16ms/step - loss: 0.1950 - accuracy: 0.9310 - val_loss: 0.3942 - val_accuracy: 0.8636\n",
            "Epoch 50/50\n",
            "8/8 [==============================] - 0s 14ms/step - loss: 0.1925 - accuracy: 0.9310 - val_loss: 0.3960 - val_accuracy: 0.8636\n"
          ]
        }
      ]
    },
    {
      "cell_type": "code",
      "source": [
        "stop_time = datetime.datetime.now()\n",
        "print (\"Time required for training:\",stop_time - start_time)"
      ],
      "metadata": {
        "colab": {
          "base_uri": "https://localhost:8080/"
        },
        "id": "n4Fs_hp2rXN9",
        "outputId": "e20b73f5-0106-4d63-a3b7-a21e0e0504af"
      },
      "execution_count": 10,
      "outputs": [
        {
          "output_type": "stream",
          "name": "stdout",
          "text": [
            "Time required for training: 0:01:07.608201\n"
          ]
        }
      ]
    },
    {
      "cell_type": "code",
      "source": [
        "average_acc_history = [np.mean([x[i] for x in all_acc_histories]) for i in range(num_epochs)]\n",
        "average_loss_history = [np.mean([x[i] for x in all_loss_histories]) for i in range(num_epochs)] \n"
      ],
      "metadata": {
        "id": "MFwhZoF4rupz"
      },
      "execution_count": 11,
      "outputs": []
    },
    {
      "cell_type": "code",
      "source": [
        "print('average val accuracy:',np.mean(average_acc_history)) \n",
        "print('average val loss:',np.mean(average_loss_history )) \n",
        " \n"
      ],
      "metadata": {
        "colab": {
          "base_uri": "https://localhost:8080/"
        },
        "id": "JzfKPNn8r2tm",
        "outputId": "c730c858-2ace-4bf4-9f22-840e1dba5205"
      },
      "execution_count": 14,
      "outputs": [
        {
          "output_type": "stream",
          "name": "stdout",
          "text": [
            "average val accuracy: 0.8603030325472355\n",
            "average val loss: 0.4236184546351433\n"
          ]
        }
      ]
    },
    {
      "cell_type": "code",
      "source": [
        "loss = history.history['loss']\n",
        "val_loss = history.history['val_loss']\n",
        "epochs = range(1, len(loss) + 1)\n",
        "#plotting the data\n",
        "plt.plot(epochs, loss,color='red', label='Training loss')\n",
        "plt.plot(epochs, val_loss, color='blue', label='Validation loss')\n",
        "plt.title('Training and validation loss')\n",
        "plt.xlabel('Epochs')\n",
        "plt.ylabel('Loss')\n",
        "plt.legend()\n",
        "plt.show()\n"
      ],
      "metadata": {
        "colab": {
          "base_uri": "https://localhost:8080/",
          "height": 472
        },
        "id": "UGUS9GW1r3Zg",
        "outputId": "8b5eb778-8f79-4952-e30a-7affebeb4c95"
      },
      "execution_count": 13,
      "outputs": [
        {
          "output_type": "display_data",
          "data": {
            "text/plain": [
              "<Figure size 640x480 with 1 Axes>"
            ],
            "image/png": "[encoded data removed]"
          },
          "metadata": {}
        }
      ]
    },
    {
      "cell_type": "code",
      "source": [
        "plt.clf()\n",
        "acc = history.history['accuracy']\n",
        "val_acc = history.history['val_accuracy']\n",
        "plt.plot(epochs, acc, color='red', label='Training acc')\n",
        "plt.plot(epochs, val_acc, color='blue', label='Validation acc')\n",
        "plt.title('Training and validation accuracy')\n",
        "plt.xlabel('Epochs')\n",
        "plt.ylabel('Accuracy')\n",
        "plt.legend()\n",
        "plt.show()"
      ],
      "metadata": {
        "colab": {
          "base_uri": "https://localhost:8080/",
          "height": 472
        },
        "id": "yj7dUjjfsR-_",
        "outputId": "266734e6-dc9b-4359-e4c4-ea64b57c14f6"
      },
      "execution_count": 15,
      "outputs": [
        {
          "output_type": "display_data",
          "data": {
            "text/plain": [
              "<Figure size 640x480 with 1 Axes>"
            ],
            "image/png": "[encoded data removed]"
          },
          "metadata": {}
        }
      ]
    },
    {
      "cell_type": "code",
      "source": [
        "#final model\n",
        "final_model = Sequential()\n",
        "final_model.add(layers.Dense(50, activation='relu', input_shape=(xtrain.shape[1],)))\n",
        "final_model.add(layers.Dense(50, activation='relu'))\n",
        "final_model.add(layers.Dense(1, activation='sigmoid'))\n",
        "final_model.compile(optimizer='adam', loss='binary_crossentropy', metrics=['accuracy'])\n"
      ],
      "metadata": {
        "id": "5IoWUPPgy4SJ"
      },
      "execution_count": 16,
      "outputs": []
    },
    {
      "cell_type": "code",
      "source": [
        "def plot_confusion_matrix(cm, classes,\n",
        "                          normalize=False,\n",
        "                          title='Confusion matrix',\n",
        "                          cmap=plt.cm.Blues):\n",
        "    \n",
        "    if normalize:\n",
        "        cm = cm.astype('float') / cm.sum(axis=1)[:, np.newaxis]\n",
        "\n",
        "    plt.imshow(cm, interpolation='nearest', cmap=cmap)\n",
        "    plt.title(title)\n",
        "    plt.colorbar()\n",
        "    tick_marks = np.arange(len(classes))\n",
        "    plt.xticks(tick_marks, classes, rotation=45)\n",
        "    plt.yticks(tick_marks, classes)\n",
        "\n",
        "    thresh = cm.max() / 2.\n",
        "    for i, j in itertools.product(range(cm.shape[0]), range(cm.shape[1])):\n",
        "        plt.text(j, i, format(cm[i, j], '.2f' if normalize else 'd'),\n",
        "                 horizontalalignment=\"center\",\n",
        "                 color=\"white\" if cm[i, j] > thresh else \"black\")\n",
        "\n",
        "    plt.tight_layout()\n",
        "    plt.ylabel('True label')\n",
        "    plt.xlabel('Predicted label')"
      ],
      "metadata": {
        "id": "gmfBsWyfzERI"
      },
      "execution_count": 18,
      "outputs": []
    },
    {
      "cell_type": "code",
      "source": [
        "from keras.utils import to_categorical\n",
        "\n",
        "ytrain = to_categorical(ytrain, 2)\n",
        "ytest = to_categorical(ytest, 2)# Predict the values from the validation dataset \n",
        "pred_label = model.predict(xtest)\n",
        "# Convert predictions classes to one hot vectors \n",
        "pred_label_classes = np.argmax(pred_label, axis = 1) \n",
        "# Convert validation observations to one hot vectors\n",
        "label_true = np.argmax(ytest,axis = 1) \n",
        "#print('Class with highest probability: ', label_true)\n",
        "# compute the confusion matrix\n",
        "confusion_mtx = confusion_matrix(label_true, pred_label_classes) \n",
        "print(confusion_mtx)\n",
        "# Plot the confusion matrix\n",
        "plot_confusion_matrix(confusion_mtx, classes = range(2))"
      ],
      "metadata": {
        "id": "crXHCUF_3GYA",
        "outputId": "1f81a611-c81c-4631-d74b-190ff20003e8",
        "colab": {
          "base_uri": "https://localhost:8080/",
          "height": 558
        }
      },
      "execution_count": 21,
      "outputs": [
        {
          "output_type": "stream",
          "name": "stdout",
          "text": [
            "3/3 [==============================] - 0s 5ms/step\n",
            "[[37  0]\n",
            " [29  0]]\n"
          ]
        },
        {
          "output_type": "display_data",
          "data": {
            "text/plain": [
              "<Figure size 640x480 with 2 Axes>"
            ],
            "image/png": "[encoded data removed]"
          },
          "metadata": {}
        }
      ]
    },
    {
      "cell_type": "code",
      "source": [],
      "metadata": {
        "id": "1nZSeJHj4F2e"
      },
      "execution_count": null,
      "outputs": []
    }
  ]
}